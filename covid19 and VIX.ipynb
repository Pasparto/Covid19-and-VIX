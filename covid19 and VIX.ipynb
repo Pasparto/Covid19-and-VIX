{
 "cells": [
  {
   "cell_type": "code",
   "execution_count": 2,
   "metadata": {},
   "outputs": [],
   "source": [
    "csv_2_df = spark.read.csv(\"GyPmnAov.csv\", header = \"true\")\n",
    "csv_3 = csv_2_df.select(\"dateRep\",\"countriesAndTerritories\",\"deaths\")\n",
    "filtered = csv_3.filter(csv_2_df.countriesAndTerritories == \"United_States_of_America\")"
   ]
  },
  {
   "cell_type": "code",
   "execution_count": 3,
   "metadata": {},
   "outputs": [],
   "source": [
    "from datetime import datetime\n",
    "from pyspark.sql.functions import col, udf\n",
    "from pyspark.sql.types import DateType\n",
    "func =  udf (lambda x: datetime.strptime(x, '%d/%m/%Y'), DateType())\n",
    "df = filtered.withColumn('date', func(col('dateRep')))"
   ]
  },
  {
   "cell_type": "code",
   "execution_count": 4,
   "metadata": {},
   "outputs": [],
   "source": [
    "df = df.select(\"date\",\"countriesAndTerritories\",\"deaths\")"
   ]
  },
  {
   "cell_type": "code",
   "execution_count": 5,
   "metadata": {},
   "outputs": [
    {
     "name": "stdout",
     "output_type": "stream",
     "text": [
      "+----------+-----------------------+------+\n",
      "|      date|countriesAndTerritories|deaths|\n",
      "+----------+-----------------------+------+\n",
      "|2020-04-25|   United_States_of_...|  1054|\n",
      "|2020-04-24|   United_States_of_...|  3179|\n",
      "|2020-04-23|   United_States_of_...|  1721|\n",
      "|2020-04-22|   United_States_of_...|  2524|\n",
      "|2020-04-21|   United_States_of_...|  1857|\n",
      "|2020-04-20|   United_States_of_...|  1772|\n",
      "|2020-04-19|   United_States_of_...|  1856|\n",
      "|2020-04-18|   United_States_of_...|  3770|\n",
      "|2020-04-17|   United_States_of_...|  2299|\n",
      "|2020-04-16|   United_States_of_...|  4928|\n",
      "|2020-04-15|   United_States_of_...|  2408|\n",
      "|2020-04-14|   United_States_of_...|  1541|\n",
      "|2020-04-13|   United_States_of_...|  1500|\n",
      "|2020-04-12|   United_States_of_...|  1831|\n",
      "|2020-04-11|   United_States_of_...|  2087|\n",
      "|2020-04-10|   United_States_of_...|  1873|\n",
      "|2020-04-09|   United_States_of_...|  1922|\n",
      "|2020-04-08|   United_States_of_...|  1906|\n",
      "|2020-04-07|   United_States_of_...|  1342|\n",
      "|2020-04-06|   United_States_of_...|  1146|\n",
      "+----------+-----------------------+------+\n",
      "only showing top 20 rows\n",
      "\n"
     ]
    }
   ],
   "source": [
    "df.show()"
   ]
  },
  {
   "cell_type": "code",
   "execution_count": 6,
   "metadata": {},
   "outputs": [],
   "source": [
    "from pyspark.sql.types import IntegerType, FloatType\n",
    "data_df = df.withColumn(\"deaths\", df[\"deaths\"].cast(IntegerType()))"
   ]
  },
  {
   "cell_type": "code",
   "execution_count": 7,
   "metadata": {},
   "outputs": [
    {
     "name": "stdout",
     "output_type": "stream",
     "text": [
      "+----------+-----------------------+------+\n",
      "|      date|countriesAndTerritories|deaths|\n",
      "+----------+-----------------------+------+\n",
      "|2020-04-25|   United_States_of_...|  1054|\n",
      "|2020-04-24|   United_States_of_...|  3179|\n",
      "|2020-04-23|   United_States_of_...|  1721|\n",
      "|2020-04-22|   United_States_of_...|  2524|\n",
      "|2020-04-21|   United_States_of_...|  1857|\n",
      "|2020-04-20|   United_States_of_...|  1772|\n",
      "|2020-04-19|   United_States_of_...|  1856|\n",
      "|2020-04-18|   United_States_of_...|  3770|\n",
      "|2020-04-17|   United_States_of_...|  2299|\n",
      "|2020-04-16|   United_States_of_...|  4928|\n",
      "|2020-04-15|   United_States_of_...|  2408|\n",
      "|2020-04-14|   United_States_of_...|  1541|\n",
      "|2020-04-13|   United_States_of_...|  1500|\n",
      "|2020-04-12|   United_States_of_...|  1831|\n",
      "|2020-04-11|   United_States_of_...|  2087|\n",
      "|2020-04-10|   United_States_of_...|  1873|\n",
      "|2020-04-09|   United_States_of_...|  1922|\n",
      "|2020-04-08|   United_States_of_...|  1906|\n",
      "|2020-04-07|   United_States_of_...|  1342|\n",
      "|2020-04-06|   United_States_of_...|  1146|\n",
      "+----------+-----------------------+------+\n",
      "only showing top 20 rows\n",
      "\n",
      "root\n",
      " |-- date: date (nullable = true)\n",
      " |-- countriesAndTerritories: string (nullable = true)\n",
      " |-- deaths: integer (nullable = true)\n",
      "\n"
     ]
    }
   ],
   "source": [
    "data_df.show()\n",
    "data_df.printSchema()"
   ]
  },
  {
   "cell_type": "code",
   "execution_count": 8,
   "metadata": {},
   "outputs": [],
   "source": [
    "csv_2_df = spark.read.csv(\"vixcurrent.csv\", header = \"true\")\n"
   ]
  },
  {
   "cell_type": "code",
   "execution_count": 9,
   "metadata": {},
   "outputs": [],
   "source": [
    "csv_3 = csv_2_df.select(\"date\",\"VIX High\")\n"
   ]
  },
  {
   "cell_type": "code",
   "execution_count": 10,
   "metadata": {},
   "outputs": [],
   "source": [
    "from datetime import *\n",
    "func =  udf (lambda x: datetime.strptime(x, '%m/%d/%Y'), DateType())\n"
   ]
  },
  {
   "cell_type": "code",
   "execution_count": 11,
   "metadata": {},
   "outputs": [],
   "source": [
    "df_vix = csv_3.withColumn('date', func(col('date')))\n"
   ]
  },
  {
   "cell_type": "code",
   "execution_count": 12,
   "metadata": {},
   "outputs": [
    {
     "name": "stdout",
     "output_type": "stream",
     "text": [
      "+----------+--------+\n",
      "|      date|VIX High|\n",
      "+----------+--------+\n",
      "|2004-01-02|   18.68|\n",
      "|2004-01-05|   18.49|\n",
      "|2004-01-06|   17.67|\n",
      "|2004-01-07|   16.75|\n",
      "|2004-01-08|   15.68|\n",
      "|2004-01-09|   16.88|\n",
      "|2004-01-12|   17.46|\n",
      "|2004-01-13|   18.33|\n",
      "|2004-01-14|    17.3|\n",
      "|2004-01-15|   17.31|\n",
      "|2004-01-16|   15.44|\n",
      "|2004-01-20|   16.13|\n",
      "|2004-01-21|   15.63|\n",
      "|2004-01-22|   14.87|\n",
      "|2004-01-23|   15.05|\n",
      "|2004-01-26|   15.78|\n",
      "|2004-01-27|   15.44|\n",
      "|2004-01-28|   17.06|\n",
      "|2004-01-29|   17.66|\n",
      "|2004-01-30|   17.35|\n",
      "+----------+--------+\n",
      "only showing top 20 rows\n",
      "\n"
     ]
    }
   ],
   "source": [
    "df_vix.show()"
   ]
  },
  {
   "cell_type": "code",
   "execution_count": 13,
   "metadata": {},
   "outputs": [],
   "source": [
    "df_vix = df_vix.withColumn(\"VIX High\", df_vix[\"VIX High\"].cast(FloatType()))"
   ]
  },
  {
   "cell_type": "code",
   "execution_count": 14,
   "metadata": {},
   "outputs": [
    {
     "name": "stdout",
     "output_type": "stream",
     "text": [
      "+----------+--------+\n",
      "|      date|VIX High|\n",
      "+----------+--------+\n",
      "|2004-01-02|   18.68|\n",
      "|2004-01-05|   18.49|\n",
      "|2004-01-06|   17.67|\n",
      "|2004-01-07|   16.75|\n",
      "|2004-01-08|   15.68|\n",
      "|2004-01-09|   16.88|\n",
      "|2004-01-12|   17.46|\n",
      "|2004-01-13|   18.33|\n",
      "|2004-01-14|    17.3|\n",
      "|2004-01-15|   17.31|\n",
      "|2004-01-16|   15.44|\n",
      "|2004-01-20|   16.13|\n",
      "|2004-01-21|   15.63|\n",
      "|2004-01-22|   14.87|\n",
      "|2004-01-23|   15.05|\n",
      "|2004-01-26|   15.78|\n",
      "|2004-01-27|   15.44|\n",
      "|2004-01-28|   17.06|\n",
      "|2004-01-29|   17.66|\n",
      "|2004-01-30|   17.35|\n",
      "+----------+--------+\n",
      "only showing top 20 rows\n",
      "\n",
      "root\n",
      " |-- date: date (nullable = true)\n",
      " |-- VIX High: float (nullable = true)\n",
      "\n"
     ]
    }
   ],
   "source": [
    "df_vix.show()\n",
    "df_vix.printSchema()"
   ]
  },
  {
   "cell_type": "code",
   "execution_count": 15,
   "metadata": {},
   "outputs": [],
   "source": [
    "import datetime, time \n",
    "dates = (\"2019-12-30 00:00:00\",  \"2020-4-25 00:00:00\")\n",
    "from pyspark.sql.functions import col\n",
    "df_vix_filtered = df_vix.where(col('date').between(*dates))"
   ]
  },
  {
   "cell_type": "code",
   "execution_count": 16,
   "metadata": {},
   "outputs": [
    {
     "name": "stdout",
     "output_type": "stream",
     "text": [
      "+----------+--------+\n",
      "|      date|VIX High|\n",
      "+----------+--------+\n",
      "|2019-12-31|   15.39|\n",
      "|2020-01-02|   13.72|\n",
      "|2020-01-03|    16.2|\n",
      "|2020-01-06|   16.39|\n",
      "|2020-01-07|   14.46|\n",
      "|2020-01-08|   15.24|\n",
      "|2020-01-09|   13.24|\n",
      "|2020-01-10|   12.87|\n",
      "|2020-01-13|   13.09|\n",
      "|2020-01-14|   13.82|\n",
      "|2020-01-15|   12.83|\n",
      "|2020-01-16|   12.42|\n",
      "|2020-01-17|   12.48|\n",
      "|2020-01-21|   13.33|\n",
      "|2020-01-22|   13.01|\n",
      "|2020-01-23|   14.15|\n",
      "|2020-01-24|   15.98|\n",
      "|2020-01-27|   19.02|\n",
      "|2020-01-28|   18.03|\n",
      "|2020-01-29|   16.65|\n",
      "+----------+--------+\n",
      "only showing top 20 rows\n",
      "\n"
     ]
    }
   ],
   "source": [
    "df_vix_filtered.show()"
   ]
  },
  {
   "cell_type": "code",
   "execution_count": 66,
   "metadata": {},
   "outputs": [],
   "source": [
    "inner_join = df.join(df_vix_filtered, on=['date'], how='inner')"
   ]
  },
  {
   "cell_type": "code",
   "execution_count": 67,
   "metadata": {},
   "outputs": [
    {
     "name": "stdout",
     "output_type": "stream",
     "text": [
      "+----------+-----------------------+------+--------+\n",
      "|      date|countriesAndTerritories|deaths|VIX High|\n",
      "+----------+-----------------------+------+--------+\n",
      "|2020-04-24|                  China|     0|   42.08|\n",
      "|2020-04-23|                  China|     0|   42.47|\n",
      "|2020-04-22|                  China|     0|   45.07|\n",
      "|2020-04-21|                  China|     0|   47.77|\n",
      "|2020-04-20|                  China|     0|   43.83|\n",
      "|2020-04-17|                  China|  1290|   40.26|\n",
      "|2020-04-16|                  China|     0|   43.02|\n",
      "|2020-04-15|                  China|     1|   43.23|\n",
      "|2020-04-14|                  China|     0|   40.57|\n",
      "|2020-04-13|                  China|     2|   45.04|\n",
      "|2020-04-09|                  China|     2|   45.73|\n",
      "|2020-04-08|                  China|     2|   47.28|\n",
      "|2020-04-07|                  China|     0|   47.51|\n",
      "|2020-04-06|                  China|     2|   45.73|\n",
      "|2020-04-03|                  China|    10|   52.29|\n",
      "|2020-04-02|                  China|     6|   57.24|\n",
      "|2020-04-01|                  China|     1|   60.59|\n",
      "|2020-03-31|                  China|     3|   58.75|\n",
      "|2020-03-30|                  China|     2|   67.69|\n",
      "|2020-03-27|                  China|     5|    69.1|\n",
      "+----------+-----------------------+------+--------+\n",
      "only showing top 20 rows\n",
      "\n"
     ]
    }
   ],
   "source": [
    "inner_join.show()"
   ]
  },
  {
   "cell_type": "code",
   "execution_count": 19,
   "metadata": {},
   "outputs": [],
   "source": [
    "df_sorted = inner_join.sort(col(\"date\"))"
   ]
  },
  {
   "cell_type": "code",
   "execution_count": 20,
   "metadata": {},
   "outputs": [
    {
     "name": "stdout",
     "output_type": "stream",
     "text": [
      "+----------+-----------------------+------+--------+\n",
      "|      date|countriesAndTerritories|deaths|VIX High|\n",
      "+----------+-----------------------+------+--------+\n",
      "|2019-12-31|   United_States_of_...|     0|   15.39|\n",
      "|2020-01-02|   United_States_of_...|     0|   13.72|\n",
      "|2020-01-03|   United_States_of_...|     0|    16.2|\n",
      "|2020-01-06|   United_States_of_...|     0|   16.39|\n",
      "|2020-01-07|   United_States_of_...|     0|   14.46|\n",
      "|2020-01-08|   United_States_of_...|     0|   15.24|\n",
      "|2020-01-09|   United_States_of_...|     0|   13.24|\n",
      "|2020-01-10|   United_States_of_...|     0|   12.87|\n",
      "|2020-01-13|   United_States_of_...|     0|   13.09|\n",
      "|2020-01-14|   United_States_of_...|     0|   13.82|\n",
      "|2020-01-15|   United_States_of_...|     0|   12.83|\n",
      "|2020-01-16|   United_States_of_...|     0|   12.42|\n",
      "|2020-01-17|   United_States_of_...|     0|   12.48|\n",
      "|2020-01-21|   United_States_of_...|     0|   13.33|\n",
      "|2020-01-22|   United_States_of_...|     0|   13.01|\n",
      "|2020-01-23|   United_States_of_...|     0|   14.15|\n",
      "|2020-01-24|   United_States_of_...|     0|   15.98|\n",
      "|2020-01-27|   United_States_of_...|     0|   19.02|\n",
      "|2020-01-28|   United_States_of_...|     0|   18.03|\n",
      "|2020-01-29|   United_States_of_...|     0|   16.65|\n",
      "+----------+-----------------------+------+--------+\n",
      "only showing top 20 rows\n",
      "\n",
      "root\n",
      " |-- date: date (nullable = true)\n",
      " |-- countriesAndTerritories: string (nullable = true)\n",
      " |-- deaths: integer (nullable = true)\n",
      " |-- VIX High: float (nullable = true)\n",
      "\n"
     ]
    }
   ],
   "source": [
    "df_sorted = df_sorted.withColumn(\"deaths\", df_sorted[\"deaths\"].cast(IntegerType()))\n",
    "df_sorted.show()\n",
    "df_sorted.printSchema()"
   ]
  },
  {
   "cell_type": "code",
   "execution_count": 43,
   "metadata": {},
   "outputs": [],
   "source": [
    "import matplotlib.pyplot as plt\n",
    "import pandas as pd\n",
    "panda_df = df_sorted.toPandas()"
   ]
  },
  {
   "cell_type": "code",
   "execution_count": 44,
   "metadata": {},
   "outputs": [
    {
     "data": {
      "text/html": [
       "<div>\n",
       "<style scoped>\n",
       "    .dataframe tbody tr th:only-of-type {\n",
       "        vertical-align: middle;\n",
       "    }\n",
       "\n",
       "    .dataframe tbody tr th {\n",
       "        vertical-align: top;\n",
       "    }\n",
       "\n",
       "    .dataframe thead th {\n",
       "        text-align: right;\n",
       "    }\n",
       "</style>\n",
       "<table border=\"1\" class=\"dataframe\">\n",
       "  <thead>\n",
       "    <tr style=\"text-align: right;\">\n",
       "      <th></th>\n",
       "      <th>date</th>\n",
       "      <th>countriesAndTerritories</th>\n",
       "      <th>deaths</th>\n",
       "      <th>VIX High</th>\n",
       "    </tr>\n",
       "  </thead>\n",
       "  <tbody>\n",
       "    <tr>\n",
       "      <th>0</th>\n",
       "      <td>2019-12-31</td>\n",
       "      <td>United_States_of_America</td>\n",
       "      <td>0</td>\n",
       "      <td>15.390000</td>\n",
       "    </tr>\n",
       "    <tr>\n",
       "      <th>1</th>\n",
       "      <td>2020-01-02</td>\n",
       "      <td>United_States_of_America</td>\n",
       "      <td>0</td>\n",
       "      <td>13.720000</td>\n",
       "    </tr>\n",
       "    <tr>\n",
       "      <th>2</th>\n",
       "      <td>2020-01-03</td>\n",
       "      <td>United_States_of_America</td>\n",
       "      <td>0</td>\n",
       "      <td>16.200001</td>\n",
       "    </tr>\n",
       "    <tr>\n",
       "      <th>3</th>\n",
       "      <td>2020-01-06</td>\n",
       "      <td>United_States_of_America</td>\n",
       "      <td>0</td>\n",
       "      <td>16.389999</td>\n",
       "    </tr>\n",
       "    <tr>\n",
       "      <th>4</th>\n",
       "      <td>2020-01-07</td>\n",
       "      <td>United_States_of_America</td>\n",
       "      <td>0</td>\n",
       "      <td>14.460000</td>\n",
       "    </tr>\n",
       "    <tr>\n",
       "      <th>...</th>\n",
       "      <td>...</td>\n",
       "      <td>...</td>\n",
       "      <td>...</td>\n",
       "      <td>...</td>\n",
       "    </tr>\n",
       "    <tr>\n",
       "      <th>75</th>\n",
       "      <td>2020-04-20</td>\n",
       "      <td>United_States_of_America</td>\n",
       "      <td>1772</td>\n",
       "      <td>43.830002</td>\n",
       "    </tr>\n",
       "    <tr>\n",
       "      <th>76</th>\n",
       "      <td>2020-04-21</td>\n",
       "      <td>United_States_of_America</td>\n",
       "      <td>1857</td>\n",
       "      <td>47.770000</td>\n",
       "    </tr>\n",
       "    <tr>\n",
       "      <th>77</th>\n",
       "      <td>2020-04-22</td>\n",
       "      <td>United_States_of_America</td>\n",
       "      <td>2524</td>\n",
       "      <td>45.070000</td>\n",
       "    </tr>\n",
       "    <tr>\n",
       "      <th>78</th>\n",
       "      <td>2020-04-23</td>\n",
       "      <td>United_States_of_America</td>\n",
       "      <td>1721</td>\n",
       "      <td>42.470001</td>\n",
       "    </tr>\n",
       "    <tr>\n",
       "      <th>79</th>\n",
       "      <td>2020-04-24</td>\n",
       "      <td>United_States_of_America</td>\n",
       "      <td>3179</td>\n",
       "      <td>42.080002</td>\n",
       "    </tr>\n",
       "  </tbody>\n",
       "</table>\n",
       "<p>80 rows × 4 columns</p>\n",
       "</div>"
      ],
      "text/plain": [
       "          date   countriesAndTerritories  deaths   VIX High\n",
       "0   2019-12-31  United_States_of_America       0  15.390000\n",
       "1   2020-01-02  United_States_of_America       0  13.720000\n",
       "2   2020-01-03  United_States_of_America       0  16.200001\n",
       "3   2020-01-06  United_States_of_America       0  16.389999\n",
       "4   2020-01-07  United_States_of_America       0  14.460000\n",
       "..         ...                       ...     ...        ...\n",
       "75  2020-04-20  United_States_of_America    1772  43.830002\n",
       "76  2020-04-21  United_States_of_America    1857  47.770000\n",
       "77  2020-04-22  United_States_of_America    2524  45.070000\n",
       "78  2020-04-23  United_States_of_America    1721  42.470001\n",
       "79  2020-04-24  United_States_of_America    3179  42.080002\n",
       "\n",
       "[80 rows x 4 columns]"
      ]
     },
     "execution_count": 44,
     "metadata": {},
     "output_type": "execute_result"
    }
   ],
   "source": [
    "panda_df"
   ]
  },
  {
   "cell_type": "code",
   "execution_count": 23,
   "metadata": {},
   "outputs": [],
   "source": [
    "import matplotlib.pyplot as plt\n",
    "import pandas as pd"
   ]
  },
  {
   "cell_type": "code",
   "execution_count": 52,
   "metadata": {},
   "outputs": [
    {
     "data": {
      "image/png": "[encoded data removed]",
      "text/plain": [
       "<Figure size 1152x576 with 1 Axes>"
      ]
     },
     "metadata": {
      "needs_background": "light"
     },
     "output_type": "display_data"
    }
   ],
   "source": [
    "ax = plt.gca()\n",
    "\n",
    "panda_df.plot(kind='line',x='date',y='VIX High', color='red', ax=ax, figsize=(16,8))\n",
    "\n",
    "plt.show()"
   ]
  },
  {
   "cell_type": "code",
   "execution_count": 50,
   "metadata": {},
   "outputs": [
    {
     "data": {
      "image/png": "[encoded data removed]",
      "text/plain": [
       "<Figure size 1152x576 with 1 Axes>"
      ]
     },
     "metadata": {
      "needs_background": "light"
     },
     "output_type": "display_data"
    }
   ],
   "source": [
    "ax = plt.gca()\n",
    "\n",
    "panda_df.plot(kind='line',x='date',y='deaths',ax=ax, figsize=(16,8))\n",
    "\n",
    "plt.show()"
   ]
  },
  {
   "cell_type": "code",
   "execution_count": 40,
   "metadata": {
    "scrolled": false
   },
   "outputs": [
    {
     "name": "stdout",
     "output_type": "stream",
     "text": [
      "+----------+-----------------------+------+--------+-------+\n",
      "|      date|countriesAndTerritories|deaths|VIX High|cum_sum|\n",
      "+----------+-----------------------+------+--------+-------+\n",
      "|2019-12-31|   United_States_of_...|     0|   15.39|      0|\n",
      "|2020-01-02|   United_States_of_...|     0|   13.72|      0|\n",
      "|2020-01-03|   United_States_of_...|     0|    16.2|      0|\n",
      "|2020-01-06|   United_States_of_...|     0|   16.39|      0|\n",
      "|2020-01-07|   United_States_of_...|     0|   14.46|      0|\n",
      "|2020-01-08|   United_States_of_...|     0|   15.24|      0|\n",
      "|2020-01-09|   United_States_of_...|     0|   13.24|      0|\n",
      "|2020-01-10|   United_States_of_...|     0|   12.87|      0|\n",
      "|2020-01-13|   United_States_of_...|     0|   13.09|      0|\n",
      "|2020-01-14|   United_States_of_...|     0|   13.82|      0|\n",
      "|2020-01-15|   United_States_of_...|     0|   12.83|      0|\n",
      "|2020-01-16|   United_States_of_...|     0|   12.42|      0|\n",
      "|2020-01-17|   United_States_of_...|     0|   12.48|      0|\n",
      "|2020-01-21|   United_States_of_...|     0|   13.33|      0|\n",
      "|2020-01-22|   United_States_of_...|     0|   13.01|      0|\n",
      "|2020-01-23|   United_States_of_...|     0|   14.15|      0|\n",
      "|2020-01-24|   United_States_of_...|     0|   15.98|      0|\n",
      "|2020-01-27|   United_States_of_...|     0|   19.02|      0|\n",
      "|2020-01-28|   United_States_of_...|     0|   18.03|      0|\n",
      "|2020-01-29|   United_States_of_...|     0|   16.65|      0|\n",
      "+----------+-----------------------+------+--------+-------+\n",
      "only showing top 20 rows\n",
      "\n"
     ]
    }
   ],
   "source": [
    "from pyspark.sql import Window\n",
    "from pyspark.sql import functions as F\n",
    "\n",
    "windowval = (Window.partitionBy('countriesAndTerritories').orderBy('date')\n",
    "             .rangeBetween(Window.unboundedPreceding, 0))\n",
    "df_w_cumsum = df_sorted.withColumn('cum_sum', F.sum('deaths').over(windowval))\n",
    "df_w_cumsum.show()"
   ]
  },
  {
   "cell_type": "code",
   "execution_count": 41,
   "metadata": {},
   "outputs": [
    {
     "name": "stdout",
     "output_type": "stream",
     "text": [
      "+----------+-----------------------+------+--------+-------+\n",
      "|      date|countriesAndTerritories|deaths|VIX High|cum_sum|\n",
      "+----------+-----------------------+------+--------+-------+\n",
      "|2019-12-31|   United_States_of_...|     0|   15.39|      0|\n",
      "|2020-01-02|   United_States_of_...|     0|   13.72|      0|\n",
      "|2020-01-03|   United_States_of_...|     0|    16.2|      0|\n",
      "|2020-01-06|   United_States_of_...|     0|   16.39|      0|\n",
      "|2020-01-07|   United_States_of_...|     0|   14.46|      0|\n",
      "|2020-01-08|   United_States_of_...|     0|   15.24|      0|\n",
      "|2020-01-09|   United_States_of_...|     0|   13.24|      0|\n",
      "|2020-01-10|   United_States_of_...|     0|   12.87|      0|\n",
      "|2020-01-13|   United_States_of_...|     0|   13.09|      0|\n",
      "|2020-01-14|   United_States_of_...|     0|   13.82|      0|\n",
      "|2020-01-15|   United_States_of_...|     0|   12.83|      0|\n",
      "|2020-01-16|   United_States_of_...|     0|   12.42|      0|\n",
      "|2020-01-17|   United_States_of_...|     0|   12.48|      0|\n",
      "|2020-01-21|   United_States_of_...|     0|   13.33|      0|\n",
      "|2020-01-22|   United_States_of_...|     0|   13.01|      0|\n",
      "|2020-01-23|   United_States_of_...|     0|   14.15|      0|\n",
      "|2020-01-24|   United_States_of_...|     0|   15.98|      0|\n",
      "|2020-01-27|   United_States_of_...|     0|   19.02|      0|\n",
      "|2020-01-28|   United_States_of_...|     0|   18.03|      0|\n",
      "|2020-01-29|   United_States_of_...|     0|   16.65|      0|\n",
      "|2020-01-30|   United_States_of_...|     0|   18.39|      0|\n",
      "|2020-01-31|   United_States_of_...|     0|   19.99|      0|\n",
      "|2020-02-03|   United_States_of_...|     0|   18.88|      0|\n",
      "|2020-02-04|   United_States_of_...|     0|   16.46|      0|\n",
      "|2020-02-05|   United_States_of_...|     0|   16.32|      0|\n",
      "|2020-02-06|   United_States_of_...|     0|   15.66|      0|\n",
      "|2020-02-07|   United_States_of_...|     0|   16.16|      0|\n",
      "|2020-02-10|   United_States_of_...|     0|   16.43|      0|\n",
      "|2020-02-11|   United_States_of_...|     0|   15.27|      0|\n",
      "|2020-02-12|   United_States_of_...|     0|   14.88|      0|\n",
      "|2020-02-13|   United_States_of_...|     0|   15.44|      0|\n",
      "|2020-02-14|   United_States_of_...|     0|   14.54|      0|\n",
      "|2020-02-18|   United_States_of_...|     0|   15.49|      0|\n",
      "|2020-02-19|   United_States_of_...|     0|   14.74|      0|\n",
      "|2020-02-20|   United_States_of_...|     0|   17.21|      0|\n",
      "|2020-02-21|   United_States_of_...|     0|   18.21|      0|\n",
      "|2020-02-24|   United_States_of_...|     0|   26.35|      0|\n",
      "|2020-02-25|   United_States_of_...|     0|   30.25|      0|\n",
      "|2020-02-26|   United_States_of_...|     0|   29.57|      0|\n",
      "|2020-02-27|   United_States_of_...|     0|   39.31|      0|\n",
      "|2020-02-28|   United_States_of_...|     0|   49.48|      0|\n",
      "|2020-03-02|   United_States_of_...|     1|   43.77|      1|\n",
      "|2020-03-03|   United_States_of_...|     4|   41.06|      5|\n",
      "|2020-03-04|   United_States_of_...|     3|   35.58|      8|\n",
      "|2020-03-05|   United_States_of_...|     2|   42.84|     10|\n",
      "|2020-03-06|   United_States_of_...|     1|   54.39|     11|\n",
      "|2020-03-09|   United_States_of_...|     4|   62.12|     15|\n",
      "|2020-03-10|   United_States_of_...|     5|   55.66|     20|\n",
      "|2020-03-11|   United_States_of_...|     2|   55.82|     22|\n",
      "|2020-03-12|   United_States_of_...|     2|   76.83|     24|\n",
      "|2020-03-13|   United_States_of_...|    10|   77.57|     34|\n",
      "|2020-03-16|   United_States_of_...|    12|   83.56|     46|\n",
      "|2020-03-17|   United_States_of_...|    16|   84.83|     62|\n",
      "|2020-03-18|   United_States_of_...|    23|   85.47|     85|\n",
      "|2020-03-19|   United_States_of_...|    42|   84.26|    127|\n",
      "|2020-03-20|   United_States_of_...|     0|   69.51|    127|\n",
      "|2020-03-23|   United_States_of_...|   131|   76.74|    258|\n",
      "|2020-03-24|   United_States_of_...|   119|   61.88|    377|\n",
      "|2020-03-25|   United_States_of_...|   211|   68.86|    588|\n",
      "|2020-03-26|   United_States_of_...|   249|   67.06|    837|\n",
      "|2020-03-27|   United_States_of_...|   246|    69.1|   1083|\n",
      "|2020-03-30|   United_States_of_...|   318|   67.69|   1401|\n",
      "|2020-03-31|   United_States_of_...|   661|   58.75|   2062|\n",
      "|2020-04-01|   United_States_of_...|   909|   60.59|   2971|\n",
      "|2020-04-02|   United_States_of_...|  1059|   57.24|   4030|\n",
      "|2020-04-03|   United_States_of_...|   915|   52.29|   4945|\n",
      "|2020-04-06|   United_States_of_...|  1146|   45.73|   6091|\n",
      "|2020-04-07|   United_States_of_...|  1342|   47.51|   7433|\n",
      "|2020-04-08|   United_States_of_...|  1906|   47.28|   9339|\n",
      "|2020-04-09|   United_States_of_...|  1922|   45.73|  11261|\n",
      "|2020-04-13|   United_States_of_...|  1500|   45.04|  12761|\n",
      "|2020-04-14|   United_States_of_...|  1541|   40.57|  14302|\n",
      "|2020-04-15|   United_States_of_...|  2408|   43.23|  16710|\n",
      "|2020-04-16|   United_States_of_...|  4928|   43.02|  21638|\n",
      "|2020-04-17|   United_States_of_...|  2299|   40.26|  23937|\n",
      "|2020-04-20|   United_States_of_...|  1772|   43.83|  25709|\n",
      "|2020-04-21|   United_States_of_...|  1857|   47.77|  27566|\n",
      "|2020-04-22|   United_States_of_...|  2524|   45.07|  30090|\n",
      "|2020-04-23|   United_States_of_...|  1721|   42.47|  31811|\n",
      "|2020-04-24|   United_States_of_...|  3179|   42.08|  34990|\n",
      "+----------+-----------------------+------+--------+-------+\n",
      "\n"
     ]
    }
   ],
   "source": [
    "df_w_cumsum.show(100)"
   ]
  },
  {
   "cell_type": "code",
   "execution_count": 45,
   "metadata": {},
   "outputs": [],
   "source": [
    "import matplotlib.pyplot as plt\n",
    "import pandas as pd\n",
    "panda_df = df_w_cumsum.toPandas()"
   ]
  },
  {
   "cell_type": "code",
   "execution_count": 49,
   "metadata": {},
   "outputs": [
    {
     "data": {
      "image/png": "[encoded data removed]",
      "text/plain": [
       "<Figure size 1152x576 with 1 Axes>"
      ]
     },
     "metadata": {
      "needs_background": "light"
     },
     "output_type": "display_data"
    }
   ],
   "source": [
    "ax = plt.gca()\n",
    "\n",
    "panda_df.plot(kind='line',x='date',y='cum_sum',ax=ax, figsize=(16,8))\n",
    "\n",
    "plt.show()"
   ]
  },
  {
   "cell_type": "code",
   "execution_count": 53,
   "metadata": {},
   "outputs": [],
   "source": [
    "normalize = df_sorted.withColumn(\"Normalizeddeaths\", (F.col(\"deaths\") / 50))"
   ]
  },
  {
   "cell_type": "code",
   "execution_count": 54,
   "metadata": {},
   "outputs": [
    {
     "name": "stdout",
     "output_type": "stream",
     "text": [
      "+----------+-----------------------+------+--------+----------------+\n",
      "|      date|countriesAndTerritories|deaths|VIX High|Normalizeddeaths|\n",
      "+----------+-----------------------+------+--------+----------------+\n",
      "|2019-12-31|   United_States_of_...|     0|   15.39|             0.0|\n",
      "|2020-01-02|   United_States_of_...|     0|   13.72|             0.0|\n",
      "|2020-01-03|   United_States_of_...|     0|    16.2|             0.0|\n",
      "|2020-01-06|   United_States_of_...|     0|   16.39|             0.0|\n",
      "|2020-01-07|   United_States_of_...|     0|   14.46|             0.0|\n",
      "|2020-01-08|   United_States_of_...|     0|   15.24|             0.0|\n",
      "|2020-01-09|   United_States_of_...|     0|   13.24|             0.0|\n",
      "|2020-01-10|   United_States_of_...|     0|   12.87|             0.0|\n",
      "|2020-01-13|   United_States_of_...|     0|   13.09|             0.0|\n",
      "|2020-01-14|   United_States_of_...|     0|   13.82|             0.0|\n",
      "|2020-01-15|   United_States_of_...|     0|   12.83|             0.0|\n",
      "|2020-01-16|   United_States_of_...|     0|   12.42|             0.0|\n",
      "|2020-01-17|   United_States_of_...|     0|   12.48|             0.0|\n",
      "|2020-01-21|   United_States_of_...|     0|   13.33|             0.0|\n",
      "|2020-01-22|   United_States_of_...|     0|   13.01|             0.0|\n",
      "|2020-01-23|   United_States_of_...|     0|   14.15|             0.0|\n",
      "|2020-01-24|   United_States_of_...|     0|   15.98|             0.0|\n",
      "|2020-01-27|   United_States_of_...|     0|   19.02|             0.0|\n",
      "|2020-01-28|   United_States_of_...|     0|   18.03|             0.0|\n",
      "|2020-01-29|   United_States_of_...|     0|   16.65|             0.0|\n",
      "|2020-01-30|   United_States_of_...|     0|   18.39|             0.0|\n",
      "|2020-01-31|   United_States_of_...|     0|   19.99|             0.0|\n",
      "|2020-02-03|   United_States_of_...|     0|   18.88|             0.0|\n",
      "|2020-02-04|   United_States_of_...|     0|   16.46|             0.0|\n",
      "|2020-02-05|   United_States_of_...|     0|   16.32|             0.0|\n",
      "|2020-02-06|   United_States_of_...|     0|   15.66|             0.0|\n",
      "|2020-02-07|   United_States_of_...|     0|   16.16|             0.0|\n",
      "|2020-02-10|   United_States_of_...|     0|   16.43|             0.0|\n",
      "|2020-02-11|   United_States_of_...|     0|   15.27|             0.0|\n",
      "|2020-02-12|   United_States_of_...|     0|   14.88|             0.0|\n",
      "|2020-02-13|   United_States_of_...|     0|   15.44|             0.0|\n",
      "|2020-02-14|   United_States_of_...|     0|   14.54|             0.0|\n",
      "|2020-02-18|   United_States_of_...|     0|   15.49|             0.0|\n",
      "|2020-02-19|   United_States_of_...|     0|   14.74|             0.0|\n",
      "|2020-02-20|   United_States_of_...|     0|   17.21|             0.0|\n",
      "|2020-02-21|   United_States_of_...|     0|   18.21|             0.0|\n",
      "|2020-02-24|   United_States_of_...|     0|   26.35|             0.0|\n",
      "|2020-02-25|   United_States_of_...|     0|   30.25|             0.0|\n",
      "|2020-02-26|   United_States_of_...|     0|   29.57|             0.0|\n",
      "|2020-02-27|   United_States_of_...|     0|   39.31|             0.0|\n",
      "|2020-02-28|   United_States_of_...|     0|   49.48|             0.0|\n",
      "|2020-03-02|   United_States_of_...|     1|   43.77|            0.02|\n",
      "|2020-03-03|   United_States_of_...|     4|   41.06|            0.08|\n",
      "|2020-03-04|   United_States_of_...|     3|   35.58|            0.06|\n",
      "|2020-03-05|   United_States_of_...|     2|   42.84|            0.04|\n",
      "|2020-03-06|   United_States_of_...|     1|   54.39|            0.02|\n",
      "|2020-03-09|   United_States_of_...|     4|   62.12|            0.08|\n",
      "|2020-03-10|   United_States_of_...|     5|   55.66|             0.1|\n",
      "|2020-03-11|   United_States_of_...|     2|   55.82|            0.04|\n",
      "|2020-03-12|   United_States_of_...|     2|   76.83|            0.04|\n",
      "|2020-03-13|   United_States_of_...|    10|   77.57|             0.2|\n",
      "|2020-03-16|   United_States_of_...|    12|   83.56|            0.24|\n",
      "|2020-03-17|   United_States_of_...|    16|   84.83|            0.32|\n",
      "|2020-03-18|   United_States_of_...|    23|   85.47|            0.46|\n",
      "|2020-03-19|   United_States_of_...|    42|   84.26|            0.84|\n",
      "|2020-03-20|   United_States_of_...|     0|   69.51|             0.0|\n",
      "|2020-03-23|   United_States_of_...|   131|   76.74|            2.62|\n",
      "|2020-03-24|   United_States_of_...|   119|   61.88|            2.38|\n",
      "|2020-03-25|   United_States_of_...|   211|   68.86|            4.22|\n",
      "|2020-03-26|   United_States_of_...|   249|   67.06|            4.98|\n",
      "|2020-03-27|   United_States_of_...|   246|    69.1|            4.92|\n",
      "|2020-03-30|   United_States_of_...|   318|   67.69|            6.36|\n",
      "|2020-03-31|   United_States_of_...|   661|   58.75|           13.22|\n",
      "|2020-04-01|   United_States_of_...|   909|   60.59|           18.18|\n",
      "|2020-04-02|   United_States_of_...|  1059|   57.24|           21.18|\n",
      "|2020-04-03|   United_States_of_...|   915|   52.29|            18.3|\n",
      "|2020-04-06|   United_States_of_...|  1146|   45.73|           22.92|\n",
      "|2020-04-07|   United_States_of_...|  1342|   47.51|           26.84|\n",
      "|2020-04-08|   United_States_of_...|  1906|   47.28|           38.12|\n",
      "|2020-04-09|   United_States_of_...|  1922|   45.73|           38.44|\n",
      "|2020-04-13|   United_States_of_...|  1500|   45.04|            30.0|\n",
      "|2020-04-14|   United_States_of_...|  1541|   40.57|           30.82|\n",
      "|2020-04-15|   United_States_of_...|  2408|   43.23|           48.16|\n",
      "|2020-04-16|   United_States_of_...|  4928|   43.02|           98.56|\n",
      "|2020-04-17|   United_States_of_...|  2299|   40.26|           45.98|\n",
      "|2020-04-20|   United_States_of_...|  1772|   43.83|           35.44|\n",
      "|2020-04-21|   United_States_of_...|  1857|   47.77|           37.14|\n",
      "|2020-04-22|   United_States_of_...|  2524|   45.07|           50.48|\n",
      "|2020-04-23|   United_States_of_...|  1721|   42.47|           34.42|\n",
      "|2020-04-24|   United_States_of_...|  3179|   42.08|           63.58|\n",
      "+----------+-----------------------+------+--------+----------------+\n",
      "\n"
     ]
    }
   ],
   "source": [
    "normalize.show(100)"
   ]
  },
  {
   "cell_type": "code",
   "execution_count": 55,
   "metadata": {},
   "outputs": [],
   "source": [
    "panda_df = normalize.toPandas()"
   ]
  },
  {
   "cell_type": "code",
   "execution_count": 57,
   "metadata": {},
   "outputs": [
    {
     "data": {
      "image/png": "[encoded data removed]",
      "text/plain": [
       "<Figure size 1152x576 with 1 Axes>"
      ]
     },
     "metadata": {
      "needs_background": "light"
     },
     "output_type": "display_data"
    }
   ],
   "source": [
    "import matplotlib.pyplot as plt\n",
    "import pandas as pd\n",
    "\n",
    "# gca stands for 'get current axis'\n",
    "ax = plt.gca()\n",
    "\n",
    "panda_df.plot(kind='line',x='date',y='Normalizeddeaths',ax=ax, figsize=(16,8))\n",
    "panda_df.plot(kind='line',x='date',y='VIX High', color='red', ax=ax, figsize=(16,8))\n",
    "\n",
    "plt.show()"
   ]
  },
  {
   "cell_type": "code",
   "execution_count": 192,
   "metadata": {},
   "outputs": [],
   "source": [
    "csv_2_df = spark.read.csv(\"GyPmnAov.csv\", header = \"true\")\n",
    "csv_3 = csv_2_df.select(\"dateRep\",\"deaths\")\n",
    "china_filtered = csv_3.filter(csv_2_df.countriesAndTerritories == \"Spain\")\n",
    "china_filtered = china_filtered.withColumnRenamed(\"deaths\", \"Spain\")"
   ]
  },
  {
   "cell_type": "code",
   "execution_count": 193,
   "metadata": {},
   "outputs": [],
   "source": [
    "from datetime import datetime\n",
    "from pyspark.sql.functions import col, udf\n",
    "from pyspark.sql.types import DateType\n",
    "func =  udf (lambda x: datetime.strptime(x, '%d/%m/%Y'), DateType())\n",
    "df = china_filtered.withColumn('date', func(col('dateRep')))"
   ]
  },
  {
   "cell_type": "code",
   "execution_count": 194,
   "metadata": {},
   "outputs": [],
   "source": [
    "df = df.select(\"date\",\"Spain\")"
   ]
  },
  {
   "cell_type": "code",
   "execution_count": 195,
   "metadata": {},
   "outputs": [
    {
     "name": "stdout",
     "output_type": "stream",
     "text": [
      "+----------+-----+\n",
      "|      date|Spain|\n",
      "+----------+-----+\n",
      "|2020-04-25|  367|\n",
      "|2020-04-24|  440|\n",
      "|2020-04-23|  435|\n",
      "|2020-04-22|  430|\n",
      "|2020-04-21|  399|\n",
      "|2020-04-20|  410|\n",
      "|2020-04-19|  565|\n",
      "|2020-04-18|  348|\n",
      "|2020-04-17|  551|\n",
      "|2020-04-16|  523|\n",
      "|2020-04-15|  567|\n",
      "|2020-04-14|  517|\n",
      "|2020-04-13|  619|\n",
      "|2020-04-12|  510|\n",
      "|2020-04-11|  605|\n",
      "|2020-04-10|  683|\n",
      "|2020-04-09|  757|\n",
      "|2020-04-08|  743|\n",
      "|2020-04-07|  637|\n",
      "|2020-04-06|  674|\n",
      "+----------+-----+\n",
      "only showing top 20 rows\n",
      "\n"
     ]
    }
   ],
   "source": [
    "df.show()"
   ]
  },
  {
   "cell_type": "code",
   "execution_count": 196,
   "metadata": {},
   "outputs": [],
   "source": [
    "inner_join = inner_join.join(df, on=['date'], how='inner')"
   ]
  },
  {
   "cell_type": "code",
   "execution_count": 197,
   "metadata": {},
   "outputs": [
    {
     "name": "stdout",
     "output_type": "stream",
     "text": [
      "+----------+-----------------------+------+--------+-----+-----+-----+\n",
      "|      date|countriesAndTerritories|deaths|VIX High|China|Italy|Spain|\n",
      "+----------+-----------------------+------+--------+-----+-----+-----+\n",
      "|2019-12-31|   United_States_of_...|     0|   15.39|    0|    0|    0|\n",
      "|2020-01-02|   United_States_of_...|     0|   13.72|    0|    0|    0|\n",
      "|2020-01-03|   United_States_of_...|     0|    16.2|    0|    0|    0|\n",
      "|2020-01-06|   United_States_of_...|     0|   16.39|    0|    0|    0|\n",
      "|2020-01-07|   United_States_of_...|     0|   14.46|    0|    0|    0|\n",
      "|2020-01-08|   United_States_of_...|     0|   15.24|    0|    0|    0|\n",
      "|2020-01-09|   United_States_of_...|     0|   13.24|    0|    0|    0|\n",
      "|2020-01-10|   United_States_of_...|     0|   12.87|    0|    0|    0|\n",
      "|2020-01-13|   United_States_of_...|     0|   13.09|    0|    0|    0|\n",
      "|2020-01-14|   United_States_of_...|     0|   13.82|    0|    0|    0|\n",
      "|2020-01-15|   United_States_of_...|     0|   12.83|    1|    0|    0|\n",
      "|2020-01-16|   United_States_of_...|     0|   12.42|    0|    0|    0|\n",
      "|2020-01-17|   United_States_of_...|     0|   12.48|    0|    0|    0|\n",
      "|2020-01-21|   United_States_of_...|     0|   13.33|    3|    0|    0|\n",
      "|2020-01-22|   United_States_of_...|     0|   13.01|   11|    0|    0|\n",
      "|2020-01-23|   United_States_of_...|     0|   14.15|    0|    0|    0|\n",
      "|2020-01-24|   United_States_of_...|     0|   15.98|    9|    0|    0|\n",
      "|2020-01-27|   United_States_of_...|     0|   19.02|   25|    0|    0|\n",
      "|2020-01-28|   United_States_of_...|     0|   18.03|   25|    0|    0|\n",
      "|2020-01-29|   United_States_of_...|     0|   16.65|   26|    0|    0|\n",
      "+----------+-----------------------+------+--------+-----+-----+-----+\n",
      "only showing top 20 rows\n",
      "\n"
     ]
    }
   ],
   "source": [
    "inner_join.show()"
   ]
  },
  {
   "cell_type": "code",
   "execution_count": 198,
   "metadata": {},
   "outputs": [],
   "source": [
    "combined = inner_join.withColumnRenamed(\"deaths\", \"United States\")"
   ]
  },
  {
   "cell_type": "code",
   "execution_count": 199,
   "metadata": {},
   "outputs": [
    {
     "name": "stdout",
     "output_type": "stream",
     "text": [
      "+----------+-----------------------+-------------+--------+-----+-----+-----+\n",
      "|      date|countriesAndTerritories|United States|VIX High|China|Italy|Spain|\n",
      "+----------+-----------------------+-------------+--------+-----+-----+-----+\n",
      "|2019-12-31|   United_States_of_...|            0|   15.39|    0|    0|    0|\n",
      "|2020-01-02|   United_States_of_...|            0|   13.72|    0|    0|    0|\n",
      "|2020-01-03|   United_States_of_...|            0|    16.2|    0|    0|    0|\n",
      "|2020-01-06|   United_States_of_...|            0|   16.39|    0|    0|    0|\n",
      "|2020-01-07|   United_States_of_...|            0|   14.46|    0|    0|    0|\n",
      "|2020-01-08|   United_States_of_...|            0|   15.24|    0|    0|    0|\n",
      "|2020-01-09|   United_States_of_...|            0|   13.24|    0|    0|    0|\n",
      "|2020-01-10|   United_States_of_...|            0|   12.87|    0|    0|    0|\n",
      "|2020-01-13|   United_States_of_...|            0|   13.09|    0|    0|    0|\n",
      "|2020-01-14|   United_States_of_...|            0|   13.82|    0|    0|    0|\n",
      "|2020-01-15|   United_States_of_...|            0|   12.83|    1|    0|    0|\n",
      "|2020-01-16|   United_States_of_...|            0|   12.42|    0|    0|    0|\n",
      "|2020-01-17|   United_States_of_...|            0|   12.48|    0|    0|    0|\n",
      "|2020-01-21|   United_States_of_...|            0|   13.33|    3|    0|    0|\n",
      "|2020-01-22|   United_States_of_...|            0|   13.01|   11|    0|    0|\n",
      "|2020-01-23|   United_States_of_...|            0|   14.15|    0|    0|    0|\n",
      "|2020-01-24|   United_States_of_...|            0|   15.98|    9|    0|    0|\n",
      "|2020-01-27|   United_States_of_...|            0|   19.02|   25|    0|    0|\n",
      "|2020-01-28|   United_States_of_...|            0|   18.03|   25|    0|    0|\n",
      "|2020-01-29|   United_States_of_...|            0|   16.65|   26|    0|    0|\n",
      "+----------+-----------------------+-------------+--------+-----+-----+-----+\n",
      "only showing top 20 rows\n",
      "\n"
     ]
    }
   ],
   "source": [
    "combined.show()"
   ]
  },
  {
   "cell_type": "code",
   "execution_count": 200,
   "metadata": {},
   "outputs": [],
   "source": [
    "combined = combined.select(\"date\",\"United States\",\"China\",\"Italy\",\"Spain\",\"VIX High\")\n"
   ]
  },
  {
   "cell_type": "code",
   "execution_count": 216,
   "metadata": {},
   "outputs": [
    {
     "name": "stdout",
     "output_type": "stream",
     "text": [
      "+----------+-------------+-----+-----+-----+--------+\n",
      "|      date|United states|China|Italy|Spain|VIX High|\n",
      "+----------+-------------+-----+-----+-----+--------+\n",
      "|2019-12-31|            0|    0|    0|    0|   15.39|\n",
      "|2020-01-02|            0|    0|    0|    0|   13.72|\n",
      "|2020-01-03|            0|    0|    0|    0|    16.2|\n",
      "|2020-01-06|            0|    0|    0|    0|   16.39|\n",
      "|2020-01-07|            0|    0|    0|    0|   14.46|\n",
      "|2020-01-08|            0|    0|    0|    0|   15.24|\n",
      "|2020-01-09|            0|    0|    0|    0|   13.24|\n",
      "|2020-01-10|            0|    0|    0|    0|   12.87|\n",
      "|2020-01-13|            0|    0|    0|    0|   13.09|\n",
      "|2020-01-14|            0|    0|    0|    0|   13.82|\n",
      "|2020-01-15|            0|    1|    0|    0|   12.83|\n",
      "|2020-01-16|            0|    0|    0|    0|   12.42|\n",
      "|2020-01-17|            0|    0|    0|    0|   12.48|\n",
      "|2020-01-21|            0|    3|    0|    0|   13.33|\n",
      "|2020-01-22|            0|   11|    0|    0|   13.01|\n",
      "|2020-01-23|            0|    0|    0|    0|   14.15|\n",
      "|2020-01-24|            0|    9|    0|    0|   15.98|\n",
      "|2020-01-27|            0|   25|    0|    0|   19.02|\n",
      "|2020-01-28|            0|   25|    0|    0|   18.03|\n",
      "|2020-01-29|            0|   26|    0|    0|   16.65|\n",
      "+----------+-------------+-----+-----+-----+--------+\n",
      "only showing top 20 rows\n",
      "\n",
      "root\n",
      " |-- date: date (nullable = true)\n",
      " |-- United states: integer (nullable = true)\n",
      " |-- China: integer (nullable = true)\n",
      " |-- Italy: integer (nullable = true)\n",
      " |-- Spain: integer (nullable = true)\n",
      " |-- VIX High: float (nullable = true)\n",
      "\n"
     ]
    }
   ],
   "source": [
    "combined = combined.withColumn(\"Italy\", combined[\"Italy\"].cast(IntegerType()))\n",
    "combined = combined.withColumn(\"China\", combined[\"China\"].cast(IntegerType()))\n",
    "combined = combined.withColumn(\"United states\", combined[\"United states\"].cast(IntegerType()))\n",
    "combined = combined.withColumn(\"Spain\", combined[\"Spain\"].cast(IntegerType()))\n",
    "\n",
    "combined.show()\n",
    "combined.printSchema()"
   ]
  },
  {
   "cell_type": "code",
   "execution_count": 133,
   "metadata": {},
   "outputs": [
    {
     "data": {
      "text/plain": [
       "85.47000122070312"
      ]
     },
     "execution_count": 133,
     "metadata": {},
     "output_type": "execute_result"
    }
   ],
   "source": [
    "combined.select(\"VIX High\").rdd.max()[0]"
   ]
  },
  {
   "cell_type": "code",
   "execution_count": 208,
   "metadata": {},
   "outputs": [
    {
     "data": {
      "text/plain": [
       "4928"
      ]
     },
     "execution_count": 208,
     "metadata": {},
     "output_type": "execute_result"
    }
   ],
   "source": [
    "combined.select(\"China\").rdd.max()[0]\n",
    "combined.select(\"Italy\").rdd.max()[0]\n",
    "combined.select(\"Spain\").rdd.max()[0]\n",
    "combined.select(\"United states\").rdd.max()[0]"
   ]
  },
  {
   "cell_type": "code",
   "execution_count": 217,
   "metadata": {},
   "outputs": [],
   "source": [
    "pandas_df = combined.toPandas()"
   ]
  },
  {
   "cell_type": "code",
   "execution_count": 218,
   "metadata": {},
   "outputs": [
    {
     "data": {
      "text/html": [
       "<div>\n",
       "<style scoped>\n",
       "    .dataframe tbody tr th:only-of-type {\n",
       "        vertical-align: middle;\n",
       "    }\n",
       "\n",
       "    .dataframe tbody tr th {\n",
       "        vertical-align: top;\n",
       "    }\n",
       "\n",
       "    .dataframe thead th {\n",
       "        text-align: right;\n",
       "    }\n",
       "</style>\n",
       "<table border=\"1\" class=\"dataframe\">\n",
       "  <thead>\n",
       "    <tr style=\"text-align: right;\">\n",
       "      <th></th>\n",
       "      <th>date</th>\n",
       "      <th>United states</th>\n",
       "      <th>China</th>\n",
       "      <th>Italy</th>\n",
       "      <th>Spain</th>\n",
       "      <th>VIX High</th>\n",
       "    </tr>\n",
       "  </thead>\n",
       "  <tbody>\n",
       "    <tr>\n",
       "      <th>0</th>\n",
       "      <td>2019-12-31</td>\n",
       "      <td>0</td>\n",
       "      <td>0</td>\n",
       "      <td>0</td>\n",
       "      <td>0</td>\n",
       "      <td>15.390000</td>\n",
       "    </tr>\n",
       "    <tr>\n",
       "      <th>1</th>\n",
       "      <td>2020-01-02</td>\n",
       "      <td>0</td>\n",
       "      <td>0</td>\n",
       "      <td>0</td>\n",
       "      <td>0</td>\n",
       "      <td>13.720000</td>\n",
       "    </tr>\n",
       "    <tr>\n",
       "      <th>2</th>\n",
       "      <td>2020-01-03</td>\n",
       "      <td>0</td>\n",
       "      <td>0</td>\n",
       "      <td>0</td>\n",
       "      <td>0</td>\n",
       "      <td>16.200001</td>\n",
       "    </tr>\n",
       "    <tr>\n",
       "      <th>3</th>\n",
       "      <td>2020-01-06</td>\n",
       "      <td>0</td>\n",
       "      <td>0</td>\n",
       "      <td>0</td>\n",
       "      <td>0</td>\n",
       "      <td>16.389999</td>\n",
       "    </tr>\n",
       "    <tr>\n",
       "      <th>4</th>\n",
       "      <td>2020-01-07</td>\n",
       "      <td>0</td>\n",
       "      <td>0</td>\n",
       "      <td>0</td>\n",
       "      <td>0</td>\n",
       "      <td>14.460000</td>\n",
       "    </tr>\n",
       "    <tr>\n",
       "      <th>...</th>\n",
       "      <td>...</td>\n",
       "      <td>...</td>\n",
       "      <td>...</td>\n",
       "      <td>...</td>\n",
       "      <td>...</td>\n",
       "      <td>...</td>\n",
       "    </tr>\n",
       "    <tr>\n",
       "      <th>75</th>\n",
       "      <td>2020-04-20</td>\n",
       "      <td>1772</td>\n",
       "      <td>0</td>\n",
       "      <td>433</td>\n",
       "      <td>410</td>\n",
       "      <td>43.830002</td>\n",
       "    </tr>\n",
       "    <tr>\n",
       "      <th>76</th>\n",
       "      <td>2020-04-21</td>\n",
       "      <td>1857</td>\n",
       "      <td>0</td>\n",
       "      <td>454</td>\n",
       "      <td>399</td>\n",
       "      <td>47.770000</td>\n",
       "    </tr>\n",
       "    <tr>\n",
       "      <th>77</th>\n",
       "      <td>2020-04-22</td>\n",
       "      <td>2524</td>\n",
       "      <td>0</td>\n",
       "      <td>534</td>\n",
       "      <td>430</td>\n",
       "      <td>45.070000</td>\n",
       "    </tr>\n",
       "    <tr>\n",
       "      <th>78</th>\n",
       "      <td>2020-04-23</td>\n",
       "      <td>1721</td>\n",
       "      <td>0</td>\n",
       "      <td>437</td>\n",
       "      <td>435</td>\n",
       "      <td>42.470001</td>\n",
       "    </tr>\n",
       "    <tr>\n",
       "      <th>79</th>\n",
       "      <td>2020-04-24</td>\n",
       "      <td>3179</td>\n",
       "      <td>0</td>\n",
       "      <td>464</td>\n",
       "      <td>440</td>\n",
       "      <td>42.080002</td>\n",
       "    </tr>\n",
       "  </tbody>\n",
       "</table>\n",
       "<p>80 rows × 6 columns</p>\n",
       "</div>"
      ],
      "text/plain": [
       "          date  United states  China  Italy  Spain   VIX High\n",
       "0   2019-12-31              0      0      0      0  15.390000\n",
       "1   2020-01-02              0      0      0      0  13.720000\n",
       "2   2020-01-03              0      0      0      0  16.200001\n",
       "3   2020-01-06              0      0      0      0  16.389999\n",
       "4   2020-01-07              0      0      0      0  14.460000\n",
       "..         ...            ...    ...    ...    ...        ...\n",
       "75  2020-04-20           1772      0    433    410  43.830002\n",
       "76  2020-04-21           1857      0    454    399  47.770000\n",
       "77  2020-04-22           2524      0    534    430  45.070000\n",
       "78  2020-04-23           1721      0    437    435  42.470001\n",
       "79  2020-04-24           3179      0    464    440  42.080002\n",
       "\n",
       "[80 rows x 6 columns]"
      ]
     },
     "execution_count": 218,
     "metadata": {},
     "output_type": "execute_result"
    }
   ],
   "source": [
    "pandas_df"
   ]
  },
  {
   "cell_type": "code",
   "execution_count": 219,
   "metadata": {},
   "outputs": [],
   "source": [
    "\n",
    "normalize = combined.withColumn(\"VIX * 56.657\", (F.col(\"VIX High\") * 50.657))\n"
   ]
  },
  {
   "cell_type": "code",
   "execution_count": 220,
   "metadata": {},
   "outputs": [
    {
     "name": "stdout",
     "output_type": "stream",
     "text": [
      "+----------+-------------+-----+-----+-----+--------+-----------------+\n",
      "|      date|United states|China|Italy|Spain|VIX High|     VIX * 56.657|\n",
      "+----------+-------------+-----+-----+-----+--------+-----------------+\n",
      "|2019-12-31|            0|    0|    0|    0|   15.39|779.6112473917007|\n",
      "|2020-01-02|            0|    0|    0|    0|   13.72|695.0140535268783|\n",
      "|2020-01-03|            0|    0|    0|    0|    16.2|820.6434386482238|\n",
      "|2020-01-06|            0|    0|    0|    0|   16.39|830.2681990814208|\n",
      "|2020-01-07|            0|    0|    0|    0|   14.46|732.5002219324111|\n",
      "|2020-01-08|            0|    0|    0|    0|   15.24|772.0126684055327|\n",
      "|2020-01-09|            0|    0|    0|    0|   13.24|670.6986684055328|\n",
      "|2020-01-10|            0|    0|    0|    0|   12.87|651.9555842027663|\n",
      "|2020-01-13|            0|    0|    0|    0|   13.09|663.1001377296448|\n",
      "|2020-01-14|            0|    0|    0|    0|   13.82|700.0797245407103|\n",
      "|2020-01-15|            0|    1|    0|    0|   12.83|649.9293061351775|\n",
      "|2020-01-16|            0|    0|    0|    0|   12.42|629.1599438648224|\n",
      "|2020-01-17|            0|    0|    0|    0|   12.48|632.1993368110657|\n",
      "|2020-01-21|            0|    3|    0|    0|   13.33|675.2578061351776|\n",
      "|2020-01-22|            0|   11|    0|    0|   13.01|659.0475815944671|\n",
      "|2020-01-23|            0|    0|    0|    0|   14.15| 716.796530675888|\n",
      "|2020-01-24|            0|    9|    0|    0|   15.98|809.4988368110656|\n",
      "|2020-01-27|            0|   25|    0|    0|   19.02|963.4961631889342|\n",
      "|2020-01-28|            0|   25|    0|    0|   18.03|913.3457447834014|\n",
      "|2020-01-29|            0|   26|    0|    0|   16.65| 843.439030675888|\n",
      "+----------+-------------+-----+-----+-----+--------+-----------------+\n",
      "only showing top 20 rows\n",
      "\n",
      "root\n",
      " |-- date: date (nullable = true)\n",
      " |-- United states: integer (nullable = true)\n",
      " |-- China: integer (nullable = true)\n",
      " |-- Italy: integer (nullable = true)\n",
      " |-- Spain: integer (nullable = true)\n",
      " |-- VIX High: float (nullable = true)\n",
      " |-- VIX * 56.657: double (nullable = true)\n",
      "\n"
     ]
    },
    {
     "data": {
      "text/html": [
       "<div>\n",
       "<style scoped>\n",
       "    .dataframe tbody tr th:only-of-type {\n",
       "        vertical-align: middle;\n",
       "    }\n",
       "\n",
       "    .dataframe tbody tr th {\n",
       "        vertical-align: top;\n",
       "    }\n",
       "\n",
       "    .dataframe thead th {\n",
       "        text-align: right;\n",
       "    }\n",
       "</style>\n",
       "<table border=\"1\" class=\"dataframe\">\n",
       "  <thead>\n",
       "    <tr style=\"text-align: right;\">\n",
       "      <th></th>\n",
       "      <th>date</th>\n",
       "      <th>United states</th>\n",
       "      <th>China</th>\n",
       "      <th>Italy</th>\n",
       "      <th>Spain</th>\n",
       "      <th>VIX High</th>\n",
       "      <th>VIX * 56.657</th>\n",
       "    </tr>\n",
       "  </thead>\n",
       "  <tbody>\n",
       "    <tr>\n",
       "      <th>0</th>\n",
       "      <td>2019-12-31</td>\n",
       "      <td>0</td>\n",
       "      <td>0</td>\n",
       "      <td>0</td>\n",
       "      <td>0</td>\n",
       "      <td>15.390000</td>\n",
       "      <td>779.611247</td>\n",
       "    </tr>\n",
       "    <tr>\n",
       "      <th>1</th>\n",
       "      <td>2020-01-02</td>\n",
       "      <td>0</td>\n",
       "      <td>0</td>\n",
       "      <td>0</td>\n",
       "      <td>0</td>\n",
       "      <td>13.720000</td>\n",
       "      <td>695.014054</td>\n",
       "    </tr>\n",
       "    <tr>\n",
       "      <th>2</th>\n",
       "      <td>2020-01-03</td>\n",
       "      <td>0</td>\n",
       "      <td>0</td>\n",
       "      <td>0</td>\n",
       "      <td>0</td>\n",
       "      <td>16.200001</td>\n",
       "      <td>820.643439</td>\n",
       "    </tr>\n",
       "    <tr>\n",
       "      <th>3</th>\n",
       "      <td>2020-01-06</td>\n",
       "      <td>0</td>\n",
       "      <td>0</td>\n",
       "      <td>0</td>\n",
       "      <td>0</td>\n",
       "      <td>16.389999</td>\n",
       "      <td>830.268199</td>\n",
       "    </tr>\n",
       "    <tr>\n",
       "      <th>4</th>\n",
       "      <td>2020-01-07</td>\n",
       "      <td>0</td>\n",
       "      <td>0</td>\n",
       "      <td>0</td>\n",
       "      <td>0</td>\n",
       "      <td>14.460000</td>\n",
       "      <td>732.500222</td>\n",
       "    </tr>\n",
       "    <tr>\n",
       "      <th>...</th>\n",
       "      <td>...</td>\n",
       "      <td>...</td>\n",
       "      <td>...</td>\n",
       "      <td>...</td>\n",
       "      <td>...</td>\n",
       "      <td>...</td>\n",
       "      <td>...</td>\n",
       "    </tr>\n",
       "    <tr>\n",
       "      <th>75</th>\n",
       "      <td>2020-04-20</td>\n",
       "      <td>1772</td>\n",
       "      <td>0</td>\n",
       "      <td>433</td>\n",
       "      <td>410</td>\n",
       "      <td>43.830002</td>\n",
       "      <td>2220.296403</td>\n",
       "    </tr>\n",
       "    <tr>\n",
       "      <th>76</th>\n",
       "      <td>2020-04-21</td>\n",
       "      <td>1857</td>\n",
       "      <td>0</td>\n",
       "      <td>454</td>\n",
       "      <td>399</td>\n",
       "      <td>47.770000</td>\n",
       "      <td>2419.884913</td>\n",
       "    </tr>\n",
       "    <tr>\n",
       "      <th>77</th>\n",
       "      <td>2020-04-22</td>\n",
       "      <td>2524</td>\n",
       "      <td>0</td>\n",
       "      <td>534</td>\n",
       "      <td>430</td>\n",
       "      <td>45.070000</td>\n",
       "      <td>2283.110975</td>\n",
       "    </tr>\n",
       "    <tr>\n",
       "      <th>78</th>\n",
       "      <td>2020-04-23</td>\n",
       "      <td>1721</td>\n",
       "      <td>0</td>\n",
       "      <td>437</td>\n",
       "      <td>435</td>\n",
       "      <td>42.470001</td>\n",
       "      <td>2151.402852</td>\n",
       "    </tr>\n",
       "    <tr>\n",
       "      <th>79</th>\n",
       "      <td>2020-04-24</td>\n",
       "      <td>3179</td>\n",
       "      <td>0</td>\n",
       "      <td>464</td>\n",
       "      <td>440</td>\n",
       "      <td>42.080002</td>\n",
       "      <td>2131.646653</td>\n",
       "    </tr>\n",
       "  </tbody>\n",
       "</table>\n",
       "<p>80 rows × 7 columns</p>\n",
       "</div>"
      ],
      "text/plain": [
       "          date  United states  China  Italy  Spain   VIX High  VIX * 56.657\n",
       "0   2019-12-31              0      0      0      0  15.390000    779.611247\n",
       "1   2020-01-02              0      0      0      0  13.720000    695.014054\n",
       "2   2020-01-03              0      0      0      0  16.200001    820.643439\n",
       "3   2020-01-06              0      0      0      0  16.389999    830.268199\n",
       "4   2020-01-07              0      0      0      0  14.460000    732.500222\n",
       "..         ...            ...    ...    ...    ...        ...           ...\n",
       "75  2020-04-20           1772      0    433    410  43.830002   2220.296403\n",
       "76  2020-04-21           1857      0    454    399  47.770000   2419.884913\n",
       "77  2020-04-22           2524      0    534    430  45.070000   2283.110975\n",
       "78  2020-04-23           1721      0    437    435  42.470001   2151.402852\n",
       "79  2020-04-24           3179      0    464    440  42.080002   2131.646653\n",
       "\n",
       "[80 rows x 7 columns]"
      ]
     },
     "execution_count": 220,
     "metadata": {},
     "output_type": "execute_result"
    }
   ],
   "source": [
    "normalize.show()\n",
    "normalize.printSchema()\n",
    "panda_df = normalize.toPandas()\n",
    "panda_df"
   ]
  },
  {
   "cell_type": "code",
   "execution_count": 221,
   "metadata": {},
   "outputs": [
    {
     "name": "stdout",
     "output_type": "stream",
     "text": [
      "root\n",
      " |-- date: date (nullable = true)\n",
      " |-- United states: integer (nullable = true)\n",
      " |-- China: integer (nullable = true)\n",
      " |-- Italy: integer (nullable = true)\n",
      " |-- Spain: integer (nullable = true)\n",
      " |-- VIX High: float (nullable = true)\n",
      " |-- VIX * 56.657: double (nullable = true)\n",
      "\n"
     ]
    }
   ],
   "source": [
    "normalize.printSchema()"
   ]
  },
  {
   "cell_type": "code",
   "execution_count": 222,
   "metadata": {},
   "outputs": [
    {
     "data": {
      "image/png": "[encoded data removed]",
      "text/plain": [
       "<Figure size 1152x576 with 1 Axes>"
      ]
     },
     "metadata": {
      "needs_background": "light"
     },
     "output_type": "display_data"
    }
   ],
   "source": [
    "import matplotlib.pyplot as plt\n",
    "import pandas as pd\n",
    "\n",
    "# gca stands for 'get current axis'\n",
    "ax = plt.gca()\n",
    "\n",
    "panda_df.plot(kind='line',x='date',y='China',ax=ax, figsize=(16,8))\n",
    "panda_df.plot(kind='line',x='date',y='United states', color='red', ax=ax, figsize=(16,8))\n",
    "panda_df.plot(kind='line',x='date',y='Italy', color='green', ax=ax, figsize=(16,8))\n",
    "panda_df.plot(kind='line',x='date',y='Spain', color='black', ax=ax, figsize=(16,8))\n",
    "panda_df.plot(kind='line',x='date',y='VIX * 56.657', color='yellow', ax=ax, figsize=(16,8))\n",
    "\n",
    "\n",
    "\n",
    "\n",
    "plt.show()"
   ]
  },
  {
   "cell_type": "code",
   "execution_count": 224,
   "metadata": {},
   "outputs": [
    {
     "name": "stdout",
     "output_type": "stream",
     "text": [
      "+----------+-------------+-----+-----+-----+--------+\n",
      "|      date|United states|China|Italy|Spain|VIX High|\n",
      "+----------+-------------+-----+-----+-----+--------+\n",
      "|2019-12-31|            0|    0|    0|    0|   15.39|\n",
      "|2020-01-02|            0|    0|    0|    0|   13.72|\n",
      "|2020-01-03|            0|    0|    0|    0|    16.2|\n",
      "|2020-01-06|            0|    0|    0|    0|   16.39|\n",
      "|2020-01-07|            0|    0|    0|    0|   14.46|\n",
      "|2020-01-08|            0|    0|    0|    0|   15.24|\n",
      "|2020-01-09|            0|    0|    0|    0|   13.24|\n",
      "|2020-01-10|            0|    0|    0|    0|   12.87|\n",
      "|2020-01-13|            0|    0|    0|    0|   13.09|\n",
      "|2020-01-14|            0|    0|    0|    0|   13.82|\n",
      "|2020-01-15|            0|    1|    0|    0|   12.83|\n",
      "|2020-01-16|            0|    0|    0|    0|   12.42|\n",
      "|2020-01-17|            0|    0|    0|    0|   12.48|\n",
      "|2020-01-21|            0|    3|    0|    0|   13.33|\n",
      "|2020-01-22|            0|   11|    0|    0|   13.01|\n",
      "|2020-01-23|            0|    0|    0|    0|   14.15|\n",
      "|2020-01-24|            0|    9|    0|    0|   15.98|\n",
      "|2020-01-27|            0|   25|    0|    0|   19.02|\n",
      "|2020-01-28|            0|   25|    0|    0|   18.03|\n",
      "|2020-01-29|            0|   26|    0|    0|   16.65|\n",
      "+----------+-------------+-----+-----+-----+--------+\n",
      "only showing top 20 rows\n",
      "\n",
      "root\n",
      " |-- date: date (nullable = true)\n",
      " |-- United states: integer (nullable = true)\n",
      " |-- China: integer (nullable = true)\n",
      " |-- Italy: integer (nullable = true)\n",
      " |-- Spain: integer (nullable = true)\n",
      " |-- VIX High: float (nullable = true)\n",
      "\n",
      "+----------+-------------+-----+-----+-----+--------+-----------------+\n",
      "|      date|United states|China|Italy|Spain|VIX High|     VIX * 56.657|\n",
      "+----------+-------------+-----+-----+-----+--------+-----------------+\n",
      "|2019-12-31|            0|    0|    0|    0|   15.39|779.6112473917007|\n",
      "|2020-01-02|            0|    0|    0|    0|   13.72|695.0140535268783|\n",
      "|2020-01-03|            0|    0|    0|    0|    16.2|820.6434386482238|\n",
      "|2020-01-06|            0|    0|    0|    0|   16.39|830.2681990814208|\n",
      "|2020-01-07|            0|    0|    0|    0|   14.46|732.5002219324111|\n",
      "|2020-01-08|            0|    0|    0|    0|   15.24|772.0126684055327|\n",
      "|2020-01-09|            0|    0|    0|    0|   13.24|670.6986684055328|\n",
      "|2020-01-10|            0|    0|    0|    0|   12.87|651.9555842027663|\n",
      "|2020-01-13|            0|    0|    0|    0|   13.09|663.1001377296448|\n",
      "|2020-01-14|            0|    0|    0|    0|   13.82|700.0797245407103|\n",
      "|2020-01-15|            0|    1|    0|    0|   12.83|649.9293061351775|\n",
      "|2020-01-16|            0|    0|    0|    0|   12.42|629.1599438648224|\n",
      "|2020-01-17|            0|    0|    0|    0|   12.48|632.1993368110657|\n",
      "|2020-01-21|            0|    3|    0|    0|   13.33|675.2578061351776|\n",
      "|2020-01-22|            0|   11|    0|    0|   13.01|659.0475815944671|\n",
      "|2020-01-23|            0|    0|    0|    0|   14.15| 716.796530675888|\n",
      "|2020-01-24|            0|    9|    0|    0|   15.98|809.4988368110656|\n",
      "|2020-01-27|            0|   25|    0|    0|   19.02|963.4961631889342|\n",
      "|2020-01-28|            0|   25|    0|    0|   18.03|913.3457447834014|\n",
      "|2020-01-29|            0|   26|    0|    0|   16.65| 843.439030675888|\n",
      "+----------+-------------+-----+-----+-----+--------+-----------------+\n",
      "only showing top 20 rows\n",
      "\n",
      "root\n",
      " |-- date: date (nullable = true)\n",
      " |-- United states: integer (nullable = true)\n",
      " |-- China: integer (nullable = true)\n",
      " |-- Italy: integer (nullable = true)\n",
      " |-- Spain: integer (nullable = true)\n",
      " |-- VIX High: float (nullable = true)\n",
      " |-- VIX * 56.657: double (nullable = true)\n",
      "\n"
     ]
    }
   ],
   "source": [
    "combined.show()\n",
    "combined.printSchema()\n",
    "\n",
    "normalize.show()\n",
    "normalize.printSchema()"
   ]
  },
  {
   "cell_type": "code",
   "execution_count": 149,
   "metadata": {},
   "outputs": [],
   "source": [
    "sqlContext = SQLContext(sc)"
   ]
  },
  {
   "cell_type": "code",
   "execution_count": 223,
   "metadata": {},
   "outputs": [
    {
     "data": {
      "text/html": [
       "<div>\n",
       "<style scoped>\n",
       "    .dataframe tbody tr th:only-of-type {\n",
       "        vertical-align: middle;\n",
       "    }\n",
       "\n",
       "    .dataframe tbody tr th {\n",
       "        vertical-align: top;\n",
       "    }\n",
       "\n",
       "    .dataframe thead th {\n",
       "        text-align: right;\n",
       "    }\n",
       "</style>\n",
       "<table border=\"1\" class=\"dataframe\">\n",
       "  <thead>\n",
       "    <tr style=\"text-align: right;\">\n",
       "      <th></th>\n",
       "      <th>0</th>\n",
       "      <th>1</th>\n",
       "      <th>2</th>\n",
       "      <th>3</th>\n",
       "      <th>4</th>\n",
       "    </tr>\n",
       "  </thead>\n",
       "  <tbody>\n",
       "    <tr>\n",
       "      <th>summary</th>\n",
       "      <td>count</td>\n",
       "      <td>mean</td>\n",
       "      <td>stddev</td>\n",
       "      <td>min</td>\n",
       "      <td>max</td>\n",
       "    </tr>\n",
       "    <tr>\n",
       "      <th>United states</th>\n",
       "      <td>80</td>\n",
       "      <td>437.375</td>\n",
       "      <td>904.8556409796307</td>\n",
       "      <td>0</td>\n",
       "      <td>4928</td>\n",
       "    </tr>\n",
       "    <tr>\n",
       "      <th>China</th>\n",
       "      <td>80</td>\n",
       "      <td>44.3625</td>\n",
       "      <td>147.82484022002512</td>\n",
       "      <td>0</td>\n",
       "      <td>1290</td>\n",
       "    </tr>\n",
       "    <tr>\n",
       "      <th>Italy</th>\n",
       "      <td>80</td>\n",
       "      <td>218.075</td>\n",
       "      <td>282.30281681157</td>\n",
       "      <td>0</td>\n",
       "      <td>839</td>\n",
       "    </tr>\n",
       "    <tr>\n",
       "      <th>Spain</th>\n",
       "      <td>80</td>\n",
       "      <td>193.6375</td>\n",
       "      <td>294.81391873046834</td>\n",
       "      <td>0</td>\n",
       "      <td>950</td>\n",
       "    </tr>\n",
       "    <tr>\n",
       "      <th>VIX High</th>\n",
       "      <td>80</td>\n",
       "      <td>36.805125057697296</td>\n",
       "      <td>22.742882981526396</td>\n",
       "      <td>12.42</td>\n",
       "      <td>85.47</td>\n",
       "    </tr>\n",
       "  </tbody>\n",
       "</table>\n",
       "</div>"
      ],
      "text/plain": [
       "                   0                   1                   2      3      4\n",
       "summary        count                mean              stddev    min    max\n",
       "United states     80             437.375   904.8556409796307      0   4928\n",
       "China             80             44.3625  147.82484022002512      0   1290\n",
       "Italy             80             218.075     282.30281681157      0    839\n",
       "Spain             80            193.6375  294.81391873046834      0    950\n",
       "VIX High          80  36.805125057697296  22.742882981526396  12.42  85.47"
      ]
     },
     "execution_count": 223,
     "metadata": {},
     "output_type": "execute_result"
    }
   ],
   "source": [
    "combined.describe().toPandas().transpose()"
   ]
  },
  {
   "cell_type": "code",
   "execution_count": 152,
   "metadata": {},
   "outputs": [
    {
     "data": {
      "text/html": [
       "<div>\n",
       "<style scoped>\n",
       "    .dataframe tbody tr th:only-of-type {\n",
       "        vertical-align: middle;\n",
       "    }\n",
       "\n",
       "    .dataframe tbody tr th {\n",
       "        vertical-align: top;\n",
       "    }\n",
       "\n",
       "    .dataframe thead th {\n",
       "        text-align: right;\n",
       "    }\n",
       "</style>\n",
       "<table border=\"1\" class=\"dataframe\">\n",
       "  <thead>\n",
       "    <tr style=\"text-align: right;\">\n",
       "      <th></th>\n",
       "      <th>0</th>\n",
       "      <th>1</th>\n",
       "      <th>2</th>\n",
       "      <th>3</th>\n",
       "      <th>4</th>\n",
       "      <th>5</th>\n",
       "      <th>6</th>\n",
       "      <th>7</th>\n",
       "      <th>8</th>\n",
       "      <th>9</th>\n",
       "      <th>...</th>\n",
       "      <th>70</th>\n",
       "      <th>71</th>\n",
       "      <th>72</th>\n",
       "      <th>73</th>\n",
       "      <th>74</th>\n",
       "      <th>75</th>\n",
       "      <th>76</th>\n",
       "      <th>77</th>\n",
       "      <th>78</th>\n",
       "      <th>79</th>\n",
       "    </tr>\n",
       "  </thead>\n",
       "  <tbody>\n",
       "    <tr>\n",
       "      <th>date</th>\n",
       "      <td>2019-12-31</td>\n",
       "      <td>2020-01-02</td>\n",
       "      <td>2020-01-03</td>\n",
       "      <td>2020-01-06</td>\n",
       "      <td>2020-01-07</td>\n",
       "      <td>2020-01-08</td>\n",
       "      <td>2020-01-09</td>\n",
       "      <td>2020-01-10</td>\n",
       "      <td>2020-01-13</td>\n",
       "      <td>2020-01-14</td>\n",
       "      <td>...</td>\n",
       "      <td>2020-04-13</td>\n",
       "      <td>2020-04-14</td>\n",
       "      <td>2020-04-15</td>\n",
       "      <td>2020-04-16</td>\n",
       "      <td>2020-04-17</td>\n",
       "      <td>2020-04-20</td>\n",
       "      <td>2020-04-21</td>\n",
       "      <td>2020-04-22</td>\n",
       "      <td>2020-04-23</td>\n",
       "      <td>2020-04-24</td>\n",
       "    </tr>\n",
       "    <tr>\n",
       "      <th>United states</th>\n",
       "      <td>0</td>\n",
       "      <td>0</td>\n",
       "      <td>0</td>\n",
       "      <td>0</td>\n",
       "      <td>0</td>\n",
       "      <td>0</td>\n",
       "      <td>0</td>\n",
       "      <td>0</td>\n",
       "      <td>0</td>\n",
       "      <td>0</td>\n",
       "      <td>...</td>\n",
       "      <td>1500</td>\n",
       "      <td>1541</td>\n",
       "      <td>2408</td>\n",
       "      <td>4928</td>\n",
       "      <td>2299</td>\n",
       "      <td>1772</td>\n",
       "      <td>1857</td>\n",
       "      <td>2524</td>\n",
       "      <td>1721</td>\n",
       "      <td>3179</td>\n",
       "    </tr>\n",
       "    <tr>\n",
       "      <th>China</th>\n",
       "      <td>0</td>\n",
       "      <td>0</td>\n",
       "      <td>0</td>\n",
       "      <td>0</td>\n",
       "      <td>0</td>\n",
       "      <td>0</td>\n",
       "      <td>0</td>\n",
       "      <td>0</td>\n",
       "      <td>0</td>\n",
       "      <td>0</td>\n",
       "      <td>...</td>\n",
       "      <td>2</td>\n",
       "      <td>0</td>\n",
       "      <td>1</td>\n",
       "      <td>0</td>\n",
       "      <td>1290</td>\n",
       "      <td>0</td>\n",
       "      <td>0</td>\n",
       "      <td>0</td>\n",
       "      <td>0</td>\n",
       "      <td>0</td>\n",
       "    </tr>\n",
       "    <tr>\n",
       "      <th>Italy</th>\n",
       "      <td>0</td>\n",
       "      <td>0</td>\n",
       "      <td>0</td>\n",
       "      <td>0</td>\n",
       "      <td>0</td>\n",
       "      <td>0</td>\n",
       "      <td>0</td>\n",
       "      <td>0</td>\n",
       "      <td>0</td>\n",
       "      <td>0</td>\n",
       "      <td>...</td>\n",
       "      <td>431</td>\n",
       "      <td>564</td>\n",
       "      <td>604</td>\n",
       "      <td>578</td>\n",
       "      <td>525</td>\n",
       "      <td>433</td>\n",
       "      <td>454</td>\n",
       "      <td>534</td>\n",
       "      <td>437</td>\n",
       "      <td>464</td>\n",
       "    </tr>\n",
       "    <tr>\n",
       "      <th>VIX High</th>\n",
       "      <td>15.39</td>\n",
       "      <td>13.72</td>\n",
       "      <td>16.2</td>\n",
       "      <td>16.39</td>\n",
       "      <td>14.46</td>\n",
       "      <td>15.24</td>\n",
       "      <td>13.24</td>\n",
       "      <td>12.87</td>\n",
       "      <td>13.09</td>\n",
       "      <td>13.82</td>\n",
       "      <td>...</td>\n",
       "      <td>45.04</td>\n",
       "      <td>40.57</td>\n",
       "      <td>43.23</td>\n",
       "      <td>43.02</td>\n",
       "      <td>40.26</td>\n",
       "      <td>43.83</td>\n",
       "      <td>47.77</td>\n",
       "      <td>45.07</td>\n",
       "      <td>42.47</td>\n",
       "      <td>42.08</td>\n",
       "    </tr>\n",
       "  </tbody>\n",
       "</table>\n",
       "<p>5 rows × 80 columns</p>\n",
       "</div>"
      ],
      "text/plain": [
       "                       0           1           2           3           4   \\\n",
       "date           2019-12-31  2020-01-02  2020-01-03  2020-01-06  2020-01-07   \n",
       "United states           0           0           0           0           0   \n",
       "China                   0           0           0           0           0   \n",
       "Italy                   0           0           0           0           0   \n",
       "VIX High            15.39       13.72        16.2       16.39       14.46   \n",
       "\n",
       "                       5           6           7           8           9   \\\n",
       "date           2020-01-08  2020-01-09  2020-01-10  2020-01-13  2020-01-14   \n",
       "United states           0           0           0           0           0   \n",
       "China                   0           0           0           0           0   \n",
       "Italy                   0           0           0           0           0   \n",
       "VIX High            15.24       13.24       12.87       13.09       13.82   \n",
       "\n",
       "               ...          70          71          72          73  \\\n",
       "date           ...  2020-04-13  2020-04-14  2020-04-15  2020-04-16   \n",
       "United states  ...        1500        1541        2408        4928   \n",
       "China          ...           2           0           1           0   \n",
       "Italy          ...         431         564         604         578   \n",
       "VIX High       ...       45.04       40.57       43.23       43.02   \n",
       "\n",
       "                       74          75          76          77          78  \\\n",
       "date           2020-04-17  2020-04-20  2020-04-21  2020-04-22  2020-04-23   \n",
       "United states        2299        1772        1857        2524        1721   \n",
       "China                1290           0           0           0           0   \n",
       "Italy                 525         433         454         534         437   \n",
       "VIX High            40.26       43.83       47.77       45.07       42.47   \n",
       "\n",
       "                       79  \n",
       "date           2020-04-24  \n",
       "United states        3179  \n",
       "China                   0  \n",
       "Italy                 464  \n",
       "VIX High            42.08  \n",
       "\n",
       "[5 rows x 80 columns]"
      ]
     },
     "execution_count": 152,
     "metadata": {},
     "output_type": "execute_result"
    }
   ],
   "source": [
    "panda_df"
   ]
  },
  {
   "cell_type": "code",
   "execution_count": 254,
   "metadata": {},
   "outputs": [],
   "source": [
    "x1 = combined.toPandas()['Spain'].values.tolist()\n",
    "y1 = combined.toPandas()['VIX High'].values.tolist()"
   ]
  },
  {
   "cell_type": "code",
   "execution_count": 256,
   "metadata": {},
   "outputs": [
    {
     "data": {
      "image/png": "[encoded data removed]",
      "text/plain": [
       "<Figure size 432x288 with 1 Axes>"
      ]
     },
     "metadata": {
      "needs_background": "light"
     },
     "output_type": "display_data"
    }
   ],
   "source": [
    "from numpy import polyfit\n",
    "import numpy as np\n",
    "import matplotlib.pyplot as plt\n",
    "\n",
    "plt.scatter(x1, y1, color='red', s=3)\n",
    "plt.xlabel('Deaths in Spain')\n",
    "plt.ylabel('VIX values')\n",
    "plt.title('Linear Regression')\n",
    "p1 = polyfit(x1, y1, 1)\n",
    "plt.plot(x1, np.polyval(p1,x1), 'g-' )\n",
    "plt.show()"
   ]
  },
  {
   "cell_type": "code",
   "execution_count": 175,
   "metadata": {},
   "outputs": [],
   "source": [
    "from pyspark import SQLContext, SparkConf, SparkContext\n",
    "from pyspark.ml.feature import VectorAssembler\n",
    "from pyspark.ml.regression import LinearRegression\n",
    "from pyspark.ml.evaluation import RegressionEvaluator"
   ]
  },
  {
   "cell_type": "code",
   "execution_count": 228,
   "metadata": {},
   "outputs": [],
   "source": [
    "combined2 = combined.select(combined[\"Italy\"],combined[\"Spain\"],combined[\"VIX High\"].alias(\"label\"))"
   ]
  },
  {
   "cell_type": "code",
   "execution_count": 245,
   "metadata": {},
   "outputs": [],
   "source": [
    "train, test = combined2.randomSplit([0.7,0.3])\n"
   ]
  },
  {
   "cell_type": "code",
   "execution_count": 246,
   "metadata": {},
   "outputs": [
    {
     "name": "stdout",
     "output_type": "stream",
     "text": [
      "+-------------+-----+\n",
      "|features     |label|\n",
      "+-------------+-----+\n",
      "|(2,[],[])    |15.39|\n",
      "|(2,[],[])    |13.72|\n",
      "|(2,[],[])    |14.46|\n",
      "|(2,[],[])    |15.24|\n",
      "|(2,[],[])    |12.87|\n",
      "|(2,[],[])    |13.09|\n",
      "|(2,[],[])    |12.42|\n",
      "|(2,[],[])    |12.48|\n",
      "|(2,[],[])    |13.01|\n",
      "|(2,[],[])    |14.15|\n",
      "|(2,[],[])    |15.98|\n",
      "|(2,[],[])    |19.02|\n",
      "|(2,[],[])    |18.03|\n",
      "|(2,[],[])    |18.39|\n",
      "|(2,[],[])    |19.99|\n",
      "|(2,[],[])    |16.46|\n",
      "|(2,[],[])    |16.32|\n",
      "|(2,[],[])    |15.66|\n",
      "|(2,[],[])    |16.16|\n",
      "|(2,[],[])    |16.43|\n",
      "|(2,[],[])    |15.27|\n",
      "|(2,[],[])    |14.88|\n",
      "|(2,[],[])    |14.54|\n",
      "|(2,[],[])    |15.49|\n",
      "|(2,[],[])    |14.74|\n",
      "|(2,[],[])    |17.21|\n",
      "|(2,[],[])    |18.21|\n",
      "|[4.0,0.0]    |30.25|\n",
      "|[5.0,0.0]    |29.57|\n",
      "|[1.0,0.0]    |39.31|\n",
      "|[5.0,0.0]    |49.48|\n",
      "|[6.0,0.0]    |43.77|\n",
      "|[17.0,0.0]   |41.06|\n",
      "|[28.0,0.0]   |35.58|\n",
      "|[27.0,1.0]   |42.84|\n",
      "|[133.0,0.0]  |62.12|\n",
      "|[167.0,7.0]  |55.82|\n",
      "|[370.0,152.0]|83.56|\n",
      "|[347.0,21.0] |84.83|\n",
      "|[347.0,182.0]|85.47|\n",
      "|[649.0,394.0]|76.74|\n",
      "|[601.0,462.0]|61.88|\n",
      "|[743.0,514.0]|68.86|\n",
      "|[685.0,738.0]|67.06|\n",
      "|[660.0,655.0]|69.1 |\n",
      "|[758.0,838.0]|67.69|\n",
      "|[810.0,812.0]|58.75|\n",
      "|[839.0,849.0]|60.59|\n",
      "|[727.0,864.0]|57.24|\n",
      "|[636.0,637.0]|47.51|\n",
      "|[604.0,743.0]|47.28|\n",
      "|[604.0,567.0]|43.23|\n",
      "|[578.0,523.0]|43.02|\n",
      "|[525.0,551.0]|40.26|\n",
      "|[433.0,410.0]|43.83|\n",
      "|[454.0,399.0]|47.77|\n",
      "|[534.0,430.0]|45.07|\n",
      "|[437.0,435.0]|42.47|\n",
      "+-------------+-----+\n",
      "\n"
     ]
    }
   ],
   "source": [
    "assembler = VectorAssembler().setInputCols(['Italy','Spain'])\\\n",
    ".setOutputCol('features')\n",
    "train01 = assembler.transform(train)\n",
    "train02 = train01.select(\"features\",\"label\")\n",
    "train02.show(100,truncate=False)"
   ]
  },
  {
   "cell_type": "code",
   "execution_count": 249,
   "metadata": {},
   "outputs": [
    {
     "name": "stdout",
     "output_type": "stream",
     "text": [
      "+-------------+-----+------------------+\n",
      "|features     |label|prediction        |\n",
      "+-------------+-----+------------------+\n",
      "|(2,[],[])    |16.2 |21.358814607858584|\n",
      "|(2,[],[])    |16.39|21.358814607858584|\n",
      "|(2,[],[])    |13.24|21.358814607858584|\n",
      "|(2,[],[])    |13.82|21.358814607858584|\n",
      "|(2,[],[])    |12.83|21.358814607858584|\n",
      "|(2,[],[])    |13.33|21.358814607858584|\n",
      "|(2,[],[])    |16.65|21.358814607858584|\n",
      "|(2,[],[])    |18.88|21.358814607858584|\n",
      "|(2,[],[])    |15.44|21.358814607858584|\n",
      "|(2,[],[])    |26.35|21.358814607858584|\n",
      "|[41.0,2.0]   |54.39|28.017846983129328|\n",
      "|[98.0,23.0]  |55.66|35.179137114071665|\n",
      "|[196.0,12.0] |76.83|52.911596569067996|\n",
      "|[189.0,37.0] |77.57|48.858827562539844|\n",
      "|[473.0,107.0]|84.26|88.52444977166127 |\n",
      "|[429.0,169.0]|69.51|73.99731016713832 |\n",
      "|[760.0,950.0]|52.29|39.750572559106   |\n",
      "|[527.0,674.0]|45.73|32.357338281777054|\n",
      "|[540.0,757.0]|45.73|24.991488808196443|\n",
      "|[431.0,619.0]|45.04|22.555083513094225|\n",
      "+-------------+-----+------------------+\n",
      "only showing top 20 rows\n",
      "\n"
     ]
    }
   ],
   "source": [
    "lr = LinearRegression()\n",
    "model = lr.fit(train02)\n",
    "test01 = assembler.transform(test)\n",
    "test02 = test01.select('features', 'label')\n",
    "test03 = model.transform(test02)\n",
    "test03.show(truncate=False)"
   ]
  },
  {
   "cell_type": "code",
   "execution_count": 250,
   "metadata": {},
   "outputs": [
    {
     "name": "stdout",
     "output_type": "stream",
     "text": [
      "0.6236788281988594\n",
      "205.587875971748\n",
      "14.338335885720769\n"
     ]
    }
   ],
   "source": [
    "evaluator = RegressionEvaluator()\n",
    "print(evaluator.evaluate(test03,{evaluator.metricName: \"r2\"}))\n",
    "print(evaluator.evaluate(test03,\n",
    "{evaluator.metricName: \"mse\"})\n",
    ")\n",
    "print(evaluator.evaluate(test03,\n",
    "{evaluator.metricName: \"rmse\"})\n",
    ")\n"
   ]
  },
  {
   "cell_type": "code",
   "execution_count": 261,
   "metadata": {},
   "outputs": [
    {
     "name": "stdout",
     "output_type": "stream",
     "text": [
      "+----------+-------------+-----+-----+-----+--------+\n",
      "|      date|United states|China|Italy|Spain|VIX High|\n",
      "+----------+-------------+-----+-----+-----+--------+\n",
      "|2019-12-31|            0|    0|    0|    0|   15.39|\n",
      "|2020-01-02|            0|    0|    0|    0|   13.72|\n",
      "|2020-01-03|            0|    0|    0|    0|    16.2|\n",
      "|2020-01-06|            0|    0|    0|    0|   16.39|\n",
      "|2020-01-07|            0|    0|    0|    0|   14.46|\n",
      "|2020-01-08|            0|    0|    0|    0|   15.24|\n",
      "|2020-01-09|            0|    0|    0|    0|   13.24|\n",
      "|2020-01-10|            0|    0|    0|    0|   12.87|\n",
      "|2020-01-13|            0|    0|    0|    0|   13.09|\n",
      "|2020-01-14|            0|    0|    0|    0|   13.82|\n",
      "|2020-01-15|            0|    1|    0|    0|   12.83|\n",
      "|2020-01-16|            0|    0|    0|    0|   12.42|\n",
      "|2020-01-17|            0|    0|    0|    0|   12.48|\n",
      "|2020-01-21|            0|    3|    0|    0|   13.33|\n",
      "|2020-01-22|            0|   11|    0|    0|   13.01|\n",
      "|2020-01-23|            0|    0|    0|    0|   14.15|\n",
      "|2020-01-24|            0|    9|    0|    0|   15.98|\n",
      "|2020-01-27|            0|   25|    0|    0|   19.02|\n",
      "|2020-01-28|            0|   25|    0|    0|   18.03|\n",
      "|2020-01-29|            0|   26|    0|    0|   16.65|\n",
      "+----------+-------------+-----+-----+-----+--------+\n",
      "only showing top 20 rows\n",
      "\n",
      "root\n",
      " |-- date: date (nullable = true)\n",
      " |-- United states: integer (nullable = true)\n",
      " |-- China: integer (nullable = true)\n",
      " |-- Italy: integer (nullable = true)\n",
      " |-- Spain: integer (nullable = true)\n",
      " |-- VIX High: float (nullable = true)\n",
      "\n"
     ]
    }
   ],
   "source": [
    "combined.show()\n",
    "combined.printSchema()"
   ]
  },
  {
   "cell_type": "code",
   "execution_count": 267,
   "metadata": {},
   "outputs": [
    {
     "name": "stdout",
     "output_type": "stream",
     "text": [
      "+-----------+-------------+\n",
      "|month(date)|max(VIX High)|\n",
      "+-----------+-------------+\n",
      "|         12|        15.39|\n",
      "|          1|        19.99|\n",
      "|          3|        85.47|\n",
      "|          4|        60.59|\n",
      "|          2|        49.48|\n",
      "+-----------+-------------+\n",
      "\n"
     ]
    }
   ],
   "source": [
    "from pyspark.sql.functions import month, mean,min, max\n",
    "\n",
    "(combined\n",
    "    .groupBy(month(\"date\"))\n",
    "    .agg(max(\"VIX High\"))\n",
    "    .show())"
   ]
  },
  {
   "cell_type": "code",
   "execution_count": 272,
   "metadata": {},
   "outputs": [
    {
     "name": "stdout",
     "output_type": "stream",
     "text": [
      "+-----------+-------------+\n",
      "|month(date)|max(VIX High)|\n",
      "+-----------+-------------+\n",
      "|         12|        15.39|\n",
      "|          1|        19.99|\n",
      "|          3|        85.47|\n",
      "|          4|        60.59|\n",
      "|          2|        49.48|\n",
      "+-----------+-------------+\n",
      "\n",
      "+-----------+-------------+\n",
      "|month(date)|min(VIX High)|\n",
      "+-----------+-------------+\n",
      "|         12|        15.39|\n",
      "|          1|        12.42|\n",
      "|          3|        35.58|\n",
      "|          4|        40.26|\n",
      "|          2|        14.54|\n",
      "+-----------+-------------+\n",
      "\n",
      "+-----------+------------------+\n",
      "|month(date)|     avg(VIX High)|\n",
      "+-----------+------------------+\n",
      "|         12|15.390000343322754|\n",
      "|          1|15.014761833917527|\n",
      "|          3|  64.6977275501598|\n",
      "|          4|46.453529582304114|\n",
      "|          2|21.086841934605648|\n",
      "+-----------+------------------+\n",
      "\n"
     ]
    }
   ],
   "source": [
    "group_by_month_max = (combined\n",
    "    .groupBy(month(\"date\"))\n",
    "    .agg(max(\"VIX High\"))\n",
    "    .show())\n",
    "group_by_month_min = (combined\n",
    "    .groupBy(month(\"date\"))\n",
    "    .agg(min(\"VIX High\"))\n",
    "    .show())\n",
    "group_by_month_avg = (combined\n",
    "    .groupBy(month(\"date\"))\n",
    "    .agg(mean(\"VIX High\"))\n",
    "    .show())\n"
   ]
  },
  {
   "cell_type": "code",
   "execution_count": 281,
   "metadata": {},
   "outputs": [
    {
     "name": "stdout",
     "output_type": "stream",
     "text": [
      "+-----------+--------+\n",
      "|month(date)|VIX High|\n",
      "+-----------+--------+\n",
      "|         12|   15.39|\n",
      "|          1|   13.72|\n",
      "|          1|    16.2|\n",
      "|          1|   16.39|\n",
      "|          1|   14.46|\n",
      "|          1|   15.24|\n",
      "|          1|   13.24|\n",
      "|          1|   12.87|\n",
      "|          1|   13.09|\n",
      "|          1|   13.82|\n",
      "|          1|   12.83|\n",
      "|          1|   12.42|\n",
      "|          1|   12.48|\n",
      "|          1|   13.33|\n",
      "|          1|   13.01|\n",
      "|          1|   14.15|\n",
      "|          1|   15.98|\n",
      "|          1|   19.02|\n",
      "|          1|   18.03|\n",
      "|          1|   16.65|\n",
      "+-----------+--------+\n",
      "only showing top 20 rows\n",
      "\n",
      "root\n",
      " |-- month(date): integer (nullable = true)\n",
      " |-- VIX High: float (nullable = true)\n",
      "\n"
     ]
    }
   ],
   "source": [
    "vix_and_date = combined.select(month(\"date\"),\"VIX High\")\n",
    "vix_and_date.show()\n",
    "vix_and_date.printSchema()"
   ]
  },
  {
   "cell_type": "code",
   "execution_count": null,
   "metadata": {},
   "outputs": [],
   "source": [
    "group_by_month = (vix_and_date\n",
    "    .groupBy(month(\"date\"))\n",
    "    .agg(max(\"VIX High\"))\n",
    "    .show())"
   ]
  },
  {
   "cell_type": "code",
   "execution_count": 285,
   "metadata": {},
   "outputs": [
    {
     "data": {
      "image/png": "[encoded data removed]",
      "text/plain": [
       "<Figure size 720x576 with 1 Axes>"
      ]
     },
     "metadata": {
      "needs_background": "light"
     },
     "output_type": "display_data"
    }
   ],
   "source": [
    "import pandas as pd\n",
    "import matplotlib.pyplot as plt\n",
    "\n",
    "pandas_df = vix_and_date.toPandas()\n",
    "pandas_df.boxplot(column=[\"VIX High\"],by=\"month(date)\", figsize=(10,8))\n",
    "\n",
    "plt.show()"
   ]
  },
  {
   "cell_type": "code",
   "execution_count": null,
   "metadata": {},
   "outputs": [],
   "source": []
  },
  {
   "cell_type": "code",
   "execution_count": null,
   "metadata": {},
   "outputs": [],
   "source": []
  }
 ],
 "metadata": {
  "kernelspec": {
   "display_name": "Python 3",
   "language": "python",
   "name": "python3"
  }
 },
 "nbformat": 4,
 "nbformat_minor": 2
}
